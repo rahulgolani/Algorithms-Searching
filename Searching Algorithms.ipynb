{
 "cells": [
  {
   "cell_type": "markdown",
   "metadata": {},
   "source": [
    "These algorithms are generally classified into two categories:\n",
    "\n",
    "Sequential Search: In this, the list or array is traversed sequentially and every element is checked. For example: Linear Search.\n",
    "<br>\n",
    "Interval Search: These algorithms are specifically designed for searching in sorted data-structures. These type of searching algorithms are much more efficient than Linear Search as they repeatedly target the center of the search structure and divide the search space in half. For Example: Binary Search."
   ]
  },
  {
   "cell_type": "markdown",
   "metadata": {},
   "source": [
    "# Linear Search"
   ]
  },
  {
   "cell_type": "code",
   "execution_count": 6,
   "metadata": {},
   "outputs": [
    {
     "name": "stdout",
     "output_type": "stream",
     "text": [
      "Element found at index 6\n"
     ]
    }
   ],
   "source": [
    "def search(arr,key):\n",
    "    if len(arr)==0:\n",
    "        return -1\n",
    "    for i in range(len(arr)):\n",
    "        if arr[i]==key:\n",
    "            return i\n",
    "    return -1\n",
    "\n",
    "if __name__ == '__main__':\n",
    "    arr=[10, 20, 80, 30, 60, 50, 110, 100, 130, 170]\n",
    "    key=110\n",
    "    result=search(arr,key)\n",
    "    if result!=-1:\n",
    "        print(f\"Element found at index {result}\")\n",
    "    else:\n",
    "        print(\"Element not found\")\n"
   ]
  },
  {
   "cell_type": "markdown",
   "metadata": {},
   "source": [
    "Time Complexity O(n)<br>Rarely Used\n"
   ]
  },
  {
   "cell_type": "markdown",
   "metadata": {},
   "source": [
    "# Binary Search"
   ]
  },
  {
   "cell_type": "code",
   "execution_count": 8,
   "metadata": {},
   "outputs": [
    {
     "name": "stdout",
     "output_type": "stream",
     "text": [
      "Element found at index 7\n"
     ]
    }
   ],
   "source": [
    "def search(arr,low,high,key):\n",
    "    if low>high:\n",
    "        return -1\n",
    "    mid=(low+high)//2\n",
    "    if arr[mid]==key:\n",
    "        return mid\n",
    "    elif key<arr[mid]:\n",
    "        return search(arr,low,mid-1,key)\n",
    "    return search(arr,mid+1,high,key)\n",
    "\n",
    "\n",
    "if __name__ == '__main__':\n",
    "    arr=[10, 20, 30, 50, 60, 80, 100, 110, 130, 170]\n",
    "    key=110\n",
    "    result=search(arr,0,len(arr)-1,key)\n",
    "    if result!=-1:\n",
    "        print(f\"Element found at index {result}\")\n",
    "    else:\n",
    "        print(\"Element not found\")\n"
   ]
  },
  {
   "cell_type": "markdown",
   "metadata": {},
   "source": [
    "# Iterative Binary Search"
   ]
  },
  {
   "cell_type": "code",
   "execution_count": 10,
   "metadata": {},
   "outputs": [
    {
     "name": "stdout",
     "output_type": "stream",
     "text": [
      "Element found at index 7\n"
     ]
    }
   ],
   "source": [
    "def search(arr,low,high,key):\n",
    "    if low>high:\n",
    "        return -1\n",
    "    while low<=high:\n",
    "        mid=(low+high)//2\n",
    "        if arr[mid]==key:\n",
    "            return mid\n",
    "        elif key<arr[mid]:\n",
    "            high=mid-1\n",
    "        else:\n",
    "            low=mid+1\n",
    "    return -1\n",
    "\n",
    "\n",
    "if __name__ == '__main__':\n",
    "    arr=[10, 20, 30, 50, 60, 80, 100, 110, 130, 170]\n",
    "    key=110\n",
    "    result=search(arr,0,len(arr)-1,key)\n",
    "    if result!=-1:\n",
    "        print(f\"Element found at index {result}\")\n",
    "    else:\n",
    "        print(\"Element not found\")\n"
   ]
  },
  {
   "cell_type": "markdown",
   "metadata": {},
   "source": [
    "Works Only for SORTED ARRAYS<br>\n",
    "\n",
    "The time complexity of Binary Search can be written as\n",
    "<br>\n",
    "T(n) = T(n/2) + c<br> \n",
    "The above recurrence can be solved either using Recurrence Tree method or Master method. It falls in case II of Master Method and solution of the recurrence is Theta(Logn).\n",
    "<br><br>\n",
    "Auxiliary Space: O(1) in case of iterative implementation. In case of recursive implementation, O(Logn) recursion call stack space."
   ]
  },
  {
   "cell_type": "markdown",
   "metadata": {},
   "source": [
    "# Jump Search"
   ]
  },
  {
   "cell_type": "markdown",
   "metadata": {},
   "source": [
    "Like Binary Search, Jump Search is a searching algorithm for sorted arrays. The basic idea is to check fewer elements (than linear search) by jumping ahead by fixed steps or skipping some elements in place of searching all elements"
   ]
  },
  {
   "cell_type": "markdown",
   "metadata": {},
   "source": [
    "For example, suppose we have an array arr[] of size n and block (to be jumped) size m. Then we search at the indexes arr[0], arr[m], arr[2m]…..arr[km] and so on. Once we find the interval (arr[km] < x < arr[(k+1)m]), we perform a linear search operation from the index km to find the element x."
   ]
  },
  {
   "cell_type": "markdown",
   "metadata": {},
   "source": [
    "<b>What is the optimal block size to be skipped?</b><br>\n",
    "In the worst case, we have to do n/m jumps and if the last checked value is greater than the element to be searched for, we perform m-1 comparisons more for linear search. Therefore the total number of comparisons in the worst case will be ((n/m) + m-1). The value of the function ((n/m) + m-1) will be minimum when m = √n. Therefore, the best step size is m = √n."
   ]
  },
  {
   "cell_type": "code",
   "execution_count": 12,
   "metadata": {},
   "outputs": [
    {
     "name": "stdout",
     "output_type": "stream",
     "text": [
      "Element found at index 7\n"
     ]
    }
   ],
   "source": [
    "from math import sqrt\n",
    "def search(arr,n,key):\n",
    "    if n==0:\n",
    "        return -1\n",
    "    jumpFactor=int(sqrt(n))\n",
    "    step=jumpFactor\n",
    "    prev=0\n",
    "    while arr[min(step,n)-1]<key: #getting the possible range\n",
    "        prev=step\n",
    "        step+=jumpFactor\n",
    "        if prev>=n: #if all Elements are smaller than the Element to be found\n",
    "            return -1\n",
    "    while arr[prev]<key:# check whether the Element is present in the range\n",
    "        prev+=1\n",
    "        if prev==min(step,n):# if block is over or end is reached\n",
    "            return -1\n",
    "    if arr[prev]==key:# if Element found at its desired location\n",
    "        return prev\n",
    "    return -1# Element not found at its desired location\n",
    "\n",
    "if __name__ == '__main__':\n",
    "    arr=[10, 20, 30, 50, 60, 80, 100, 110, 130, 170]\n",
    "    key=110\n",
    "    result=search(arr,len(arr),key)\n",
    "    if result!=-1:\n",
    "        print(f\"Element found at index {result}\")\n",
    "    else:\n",
    "        print(\"Element not found\")\n"
   ]
  },
  {
   "cell_type": "markdown",
   "metadata": {},
   "source": [
    "Time Complexity : O(√n)\n",
    "Auxiliary Space : O(1)"
   ]
  },
  {
   "cell_type": "markdown",
   "metadata": {},
   "source": [
    "<ul>\n",
    "<li>Works only sorted arrays.\n",
    "<li>The optimal size of a block to be jumped is (√ n). This makes the time complexity of Jump Search O(√ n).\n",
    "<li>The time complexity of Jump Search is between Linear Search ( ( O(n) ) and Binary Search ( O (Log n) ).\n",
    "Binary Search is better than Jump Search, but Jump search has an advantage that we traverse back only once (Binary Search may require up to O(Log n) jumps, consider a situation where the element to be searched is the smallest element or smaller than the smallest). So in a system where binary search is costly, we use Jump Search.\n",
    "</ul>"
   ]
  },
  {
   "cell_type": "markdown",
   "metadata": {},
   "source": [
    "# Interpolation Search"
   ]
  },
  {
   "cell_type": "markdown",
   "metadata": {},
   "source": [
    "The Interpolation Search is an improvement over Binary Search for instances, where the values in a sorted array are uniformly distributed. Binary Search always goes to the middle element to check. On the other hand, interpolation search may go to different locations according to the value of the key being searched. For example, if the value of the key is closer to the last element, interpolation search is likely to start search toward the end side."
   ]
  },
  {
   "cell_type": "markdown",
   "metadata": {},
   "source": [
    "The idea of formula is to return higher value of pos when element to be searched is closer to arr[hi]. And smaller value when closer to arr[lo]\n",
    "<br>probe position formula-><br>\n",
    "pos = lo + [ (x-arr[lo])*(hi-lo) / (arr[hi]-arr[Lo]) ]"
   ]
  },
  {
   "cell_type": "code",
   "execution_count": 3,
   "metadata": {},
   "outputs": [
    {
     "name": "stdout",
     "output_type": "stream",
     "text": [
      "9\n",
      "Element found at index 9\n"
     ]
    }
   ],
   "source": [
    "def search(arr,low,high,key):\n",
    "    if low>high:\n",
    "        return -1\n",
    "    while low<=high and key>=arr[low] and key<=arr[high]:\n",
    "        mid=low+((key-arr[low])*(high-low))//(arr[high]-arr[low])  //probe position formula\n",
    "        print(mid)\n",
    "        if arr[mid]==key:\n",
    "            return mid\n",
    "        elif key<arr[mid]:\n",
    "            high=mid-1\n",
    "        else:\n",
    "            low=mid+1\n",
    "    return -1\n",
    "\n",
    "\n",
    "if __name__ == '__main__':\n",
    "    arr=[10, 20, 30, 50, 60, 80, 100, 110, 130, 170]\n",
    "    key=170\n",
    "    result=search(arr,0,len(arr)-1,key)\n",
    "    if result!=-1:\n",
    "        print(f\"Element found at index {result}\")\n",
    "    else:\n",
    "        print(\"Element not found\")\n"
   ]
  },
  {
   "cell_type": "markdown",
   "metadata": {},
   "source": [
    " If elements are uniformly distributed (Gaps between the elements should be similar, if not exactly the same), then O (log log n)). In worst case it can take upto O(n)."
   ]
  },
  {
   "cell_type": "markdown",
   "metadata": {},
   "source": [
    "# Exponential Search"
   ]
  },
  {
   "cell_type": "markdown",
   "metadata": {},
   "source": [
    "Exponential search involves two steps:\n",
    "<br><br>\n",
    "Find range where element is present<br>\n",
    "Do Binary Search in above found range."
   ]
  },
  {
   "cell_type": "markdown",
   "metadata": {},
   "source": [
    "<b>How to find the range where element may be present?</b>\n",
    "The idea is to start with subarray size 1, compare its last element with x, then try size 2, then 4 and so on until last element of a subarray is not greater.\n",
    "Once we find an index i (after repeated doubling of i), we know that the element must be present between i/2 and i (Why i/2? because we could not find a greater value in previous iteration)"
   ]
  },
  {
   "cell_type": "code",
   "execution_count": 5,
   "metadata": {},
   "outputs": [
    {
     "name": "stdout",
     "output_type": "stream",
     "text": [
      "Element found at index 7\n"
     ]
    }
   ],
   "source": [
    "def search(arr,low,high,key):\n",
    "    if arr[low]==key:\n",
    "        return low\n",
    "    #getting the range\n",
    "    i=1\n",
    "    while i<=high and arr[i]<=key:\n",
    "        i*=2\n",
    "\n",
    "    low=i//2\n",
    "    high=min(i,high)\n",
    "\n",
    "    while low<=high:\n",
    "        mid=(low+high)//2\n",
    "        if arr[mid]==key:\n",
    "            return mid\n",
    "        elif key<arr[mid]:\n",
    "            high=mid-1\n",
    "        else:\n",
    "            low=mid+1\n",
    "    return -1\n",
    "\n",
    "\n",
    "if __name__ == '__main__':\n",
    "    arr=[10, 20, 30, 50, 60, 80, 100, 110, 130, 170]\n",
    "    key=110\n",
    "    result=search(arr,0,len(arr)-1,key)\n",
    "    if result!=-1:\n",
    "        print(f\"Element found at index {result}\")\n",
    "    else:\n",
    "        print(\"Element not found\")\n"
   ]
  },
  {
   "cell_type": "markdown",
   "metadata": {},
   "source": [
    "<strong>Time Complexity :</strong> O(Log n)"
   ]
  },
  {
   "cell_type": "markdown",
   "metadata": {},
   "source": [
    "Applications of Exponential Search:\n",
    "<br><br>\n",
    "Exponential Binary Search is particularly useful for unbounded searches, where size of array is infinite.<br>\n",
    "It works better than Binary Search for bounded arrays, and also when the element to be searched is closer to the first element."
   ]
  },
  {
   "cell_type": "markdown",
   "metadata": {},
   "source": [
    "# Sublist Search (Search a linked list in another list)"
   ]
  },
  {
   "cell_type": "code",
   "execution_count": 9,
   "metadata": {},
   "outputs": [
    {
     "name": "stdout",
     "output_type": "stream",
     "text": [
      "List Found\n"
     ]
    }
   ],
   "source": [
    "class Node:\n",
    "    def __init__(self,data):\n",
    "        self.data=data\n",
    "        self.next=None\n",
    "\n",
    "class LinkedList:\n",
    "    def __init__(self):\n",
    "        self.head = None\n",
    "\n",
    "    def insert(self,key):\n",
    "        temp=Node(key)\n",
    "        if self.head is None:\n",
    "            self.head=temp\n",
    "            return\n",
    "        temp.next=self.head\n",
    "        self.head=temp\n",
    "\n",
    "    def traverse(self):\n",
    "        if self.head is None:\n",
    "            return\n",
    "        temp=self.head\n",
    "        while temp:\n",
    "            print(temp.data,end=\" \")\n",
    "            temp=temp.next\n",
    "        print()\n",
    "\n",
    "    def search(self,list2):\n",
    "        if self.head is None and list2 is None:\n",
    "            return True\n",
    "        if list2 is None and self.head is not None:\n",
    "            return False\n",
    "        temp=self.head\n",
    "        curr=list2\n",
    "        while temp and curr:\n",
    "            if temp.data==curr.data:\n",
    "                temp=temp.next\n",
    "                curr=curr.next\n",
    "                if curr is None:\n",
    "                    return True\n",
    "            elif curr!= list2:\n",
    "                curr=list2\n",
    "            else:\n",
    "                temp=temp.next\n",
    "        return False\n",
    "\n",
    "if __name__ == '__main__':\n",
    "    l=LinkedList()\n",
    "    l.insert(4)\n",
    "    l.insert(3)\n",
    "    l.insert(2)\n",
    "    l.insert(1)\n",
    "    l.insert(2)\n",
    "    l.insert(1)\n",
    "    #l.traverse()\n",
    "    list2=LinkedList()\n",
    "    list2.insert(4)\n",
    "    list2.insert(3)\n",
    "    list2.insert(2)\n",
    "    list2.insert(1)\n",
    "    #list2.traverse()\n",
    "    result=l.search(list2.head)\n",
    "    if result:\n",
    "        print(\"List Found\")\n",
    "    else:\n",
    "        print('List Not Found')\n"
   ]
  },
  {
   "cell_type": "markdown",
   "metadata": {},
   "source": [
    "Time Complexity : O(m*n) where m is the number of nodes in second list and n in first\n",
    "<br>\n",
    "Optimization :\n",
    "Can be optimized by using extra space i.e. stores the list into two strings and apply KMP algorithm.(Pattern Matching)"
   ]
  },
  {
   "cell_type": "markdown",
   "metadata": {},
   "source": [
    "# Fibonacci Search"
   ]
  },
  {
   "cell_type": "markdown",
   "metadata": {},
   "source": [
    "# Recursive Linear Search"
   ]
  },
  {
   "cell_type": "code",
   "execution_count": 10,
   "metadata": {},
   "outputs": [
    {
     "name": "stdout",
     "output_type": "stream",
     "text": [
      "Element found at index 6\n"
     ]
    }
   ],
   "source": [
    "def searchRecur(arr,key,n):\n",
    "    if n<0:\n",
    "        return -1\n",
    "    if arr[n]==key:\n",
    "        return n\n",
    "    return searchRecur(arr,key,n-1)\n",
    "\n",
    "def search(arr,key):\n",
    "    n=len(arr)-1\n",
    "    return searchRecur(arr,key,n)\n",
    "\n",
    "\n",
    "if __name__ == '__main__':\n",
    "    arr=[10, 20, 80, 30, 60, 50, 110, 100, 130, 170]\n",
    "    key=110\n",
    "    result=search(arr,key)\n",
    "    if result!=-1:\n",
    "        print(f\"Element found at index {result}\")\n",
    "    else:\n",
    "        print(\"Element not found\")\n"
   ]
  },
  {
   "cell_type": "markdown",
   "metadata": {},
   "source": [
    "# 2 Pointer Recursive Linear Search"
   ]
  },
  {
   "cell_type": "code",
   "execution_count": 12,
   "metadata": {},
   "outputs": [
    {
     "name": "stdout",
     "output_type": "stream",
     "text": [
      "Element found at index 6\n"
     ]
    }
   ],
   "source": [
    "def searchRecur(arr,key,low,high):\n",
    "    if low>high:\n",
    "        return -1\n",
    "    if arr[low]==key:\n",
    "        return low\n",
    "    if arr[high]==key:\n",
    "        return high\n",
    "    return searchRecur(arr,key,low+1,high-1)\n",
    "\n",
    "def search(arr,key):\n",
    "    n=len(arr)-1\n",
    "    return searchRecur(arr,key,0,n)\n",
    "\n",
    "\n",
    "if __name__ == '__main__':\n",
    "    arr=[10, 20, 80, 30, 60, 50, 110, 100, 130, 170]\n",
    "    key=110\n",
    "    result=search(arr,key)\n",
    "    if result!=-1:\n",
    "        print(f\"Element found at index {result}\")\n",
    "    else:\n",
    "        print(\"Element not found\")\n"
   ]
  },
  {
   "cell_type": "markdown",
   "metadata": {},
   "source": [
    "# Unbounded Binary Search\n",
    "Example of Exponential Search"
   ]
  },
  {
   "cell_type": "markdown",
   "metadata": {},
   "source": [
    "Given a function ‘int f(unsigned int x)’ which takes a non-negative integer ‘x’ as input and returns an integer as output. The function is monotonically increasing with respect to value of x, i.e., the value of f(x+1) is greater than f(x) for every input x. Find the value ‘n’ where f() becomes positive for the first time. Since f() is monotonically increasing, values of f(n+1), f(n+2),… must be positive and values of f(n-2), f(n-3), .. must be negative."
   ]
  },
  {
   "cell_type": "code",
   "execution_count": 13,
   "metadata": {},
   "outputs": [
    {
     "name": "stdout",
     "output_type": "stream",
     "text": [
      "12\n"
     ]
    }
   ],
   "source": [
    "def f(x):\n",
    "    return (x * x - 10 * x - 20)\n",
    "\n",
    "def binarySearch():\n",
    "    if f(0)>0:\n",
    "        return 0\n",
    "    i=1\n",
    "    while f(i)<0:\n",
    "        i*=2\n",
    "    low=i//2\n",
    "    high=i\n",
    "    while low<=high:\n",
    "        mid=(low+high)//2\n",
    "        if f(mid)>0 and (mid==low or f(mid-1)<0):\n",
    "            return mid\n",
    "        elif f(mid)<0:\n",
    "            low=mid+1\n",
    "        else:\n",
    "            high=mid-1\n",
    "if __name__ == '__main__':\n",
    "    result=binarySearch()\n",
    "    #print(f(12),f(11))\n",
    "    print(result)\n"
   ]
  },
  {
   "cell_type": "markdown",
   "metadata": {},
   "source": [
    "Linear search performs equality comparisons and Binary search performs ordering comparisons"
   ]
  },
  {
   "cell_type": "markdown",
   "metadata": {},
   "source": [
    "<strong>Interpolation search vs Binary search</strong><br><br>\n",
    "Interpolation search works better than Binary Search for a sorted and uniformly distributed array.\n",
    "On average the interpolation search makes about log(log(n)) comparisons (if the elements are uniformly distributed), where n is the number of elements to be searched. In the worst case (for instance where the numerical values of the keys increase exponentially) it can make up to O(n) comparisons."
   ]
  },
  {
   "cell_type": "markdown",
   "metadata": {},
   "source": [
    "<strong>Why is Binary Search preferred over Ternary Search?</strong>"
   ]
  },
  {
   "cell_type": "markdown",
   "metadata": {},
   "source": [
    "<strong> Ternary Search</strong>"
   ]
  },
  {
   "cell_type": "code",
   "execution_count": 2,
   "metadata": {},
   "outputs": [
    {
     "name": "stdout",
     "output_type": "stream",
     "text": [
      "Element found at index 5\n"
     ]
    }
   ],
   "source": [
    "def ternarySearch(arr,low,high,key):\n",
    "    if low>high:\n",
    "        return -1\n",
    "    mid1=low+(high-low)//3\n",
    "    mid2=mid1+(high-low)//3\n",
    "    if arr[mid1]==key:\n",
    "        return mid1\n",
    "    if arr[mid2]==key:\n",
    "        return mid2\n",
    "    if key<arr[mid1]:\n",
    "        return ternarySearch(arr,low,mid1-1,key)\n",
    "    if key>arr[mid2]:\n",
    "        return ternarySearch(arr,mid2+1,high,key)\n",
    "    return ternarySearch(arr,mid1+1,mid2-1,key)\n",
    "\n",
    "if __name__ == '__main__':\n",
    "    arr=[10, 20, 30, 50, 60, 80, 100, 110, 130, 170]\n",
    "    key=80\n",
    "    result=ternarySearch(arr,0,len(arr)-1,key)\n",
    "    if result!=-1:\n",
    "        print(f\"Element found at index {result}\")\n",
    "    else:\n",
    "        print(\"Element not found\")\n"
   ]
  },
  {
   "cell_type": "markdown",
   "metadata": {},
   "source": [
    "The following is recursive formula for counting comparisons in worst case of Binary Search.\n",
    "<br><br>\n",
    "   T(n) = T(n/2) + 2,  T(1) = 1\n",
    "The following is recursive formula for counting comparisons in worst case of Ternary Search.\n",
    "<br><br>\n",
    "   T(n) = T(n/3) + 4, T(1) = 1\n",
    "In binary search, there are 2Log2n + 1 comparisons in worst case. In ternary search, there are 4Log3n + 1 comparisons in worst case.\n",
    "<br>\n",
    "Time Complexity for Binary search = 2clog2n + O(1)<br>\n",
    "Time Complexity for Ternary search = 4clog3n + O(1)<br>\n",
    "Therefore, the comparison of Ternary and Binary Searches boils down the comparison of expressions 2Log3n and Log2n . The value of 2Log3n can be written as (2 / Log23) * Log2n . Since the value of (2 / Log23) is more than one, Ternary Search does more comparisons than Binary Search in worst case."
   ]
  },
  {
   "cell_type": "markdown",
   "metadata": {},
   "source": [
    "# Find the Missing Number\n",
    "You are given a list of n-1 integers and these integers are in the range of 1 to n. There are no duplicates in the list. One of the integers is missing in the list. "
   ]
  },
  {
   "cell_type": "markdown",
   "metadata": {},
   "source": [
    "O(n2) solution"
   ]
  },
  {
   "cell_type": "code",
   "execution_count": 4,
   "metadata": {},
   "outputs": [
    {
     "name": "stdout",
     "output_type": "stream",
     "text": [
      "5\n"
     ]
    }
   ],
   "source": [
    "def search(arr,key):\n",
    "    if len(arr)==0:\n",
    "        return -1\n",
    "    for i in range(len(arr)):\n",
    "        if arr[i]==key:\n",
    "            return i\n",
    "    return -1\n",
    "\n",
    "def findMissing(arr):\n",
    "    for i in range(1,len(arr)+2):\n",
    "        if search(arr,i)==-1:\n",
    "            return i\n",
    "\n",
    "if __name__ == '__main__':\n",
    "    arr=[1, 2, 4, 6, 3, 7, 8]\n",
    "    print(findMissing(arr))\n"
   ]
  },
  {
   "cell_type": "markdown",
   "metadata": {},
   "source": [
    "O(n) solution using hashing Space->O(n)"
   ]
  },
  {
   "cell_type": "code",
   "execution_count": 5,
   "metadata": {},
   "outputs": [
    {
     "name": "stdout",
     "output_type": "stream",
     "text": [
      "5\n"
     ]
    }
   ],
   "source": [
    "def findMissing(arr):\n",
    "    temp=[False]*(len(arr)+1)\n",
    "    for i in arr:\n",
    "        temp[i-1]=True\n",
    "    for i in range(len(temp)):\n",
    "        if temp[i]==False:\n",
    "            return i+1\n",
    "\n",
    "if __name__ == '__main__':\n",
    "    arr=[1, 2, 4, 6, 3, 7, 8]\n",
    "    print(findMissing(arr))\n"
   ]
  },
  {
   "cell_type": "markdown",
   "metadata": {},
   "source": [
    "<strong>Sum Approach</strong>"
   ]
  },
  {
   "cell_type": "code",
   "execution_count": 7,
   "metadata": {},
   "outputs": [
    {
     "name": "stdout",
     "output_type": "stream",
     "text": [
      "5\n"
     ]
    }
   ],
   "source": [
    "def findMissing(arr):\n",
    "    n=len(arr)+1\n",
    "    total=n*(n+1)//2\n",
    "    for i in arr:\n",
    "        total-=i\n",
    "    return total\n",
    "\n",
    "if __name__ == '__main__':\n",
    "    arr=[1, 2, 4, 6, 3, 7, 8]\n",
    "    print(findMissing(arr))\n"
   ]
  },
  {
   "cell_type": "markdown",
   "metadata": {},
   "source": [
    "<strong>Above solution can lead to integer overflow if the number is very large</strong>"
   ]
  },
  {
   "cell_type": "code",
   "execution_count": 11,
   "metadata": {},
   "outputs": [
    {
     "name": "stdout",
     "output_type": "stream",
     "text": [
      "5\n"
     ]
    }
   ],
   "source": [
    "def findMissing(arr):\n",
    "    n=len(arr)\n",
    "    i=0\n",
    "    total=1\n",
    "    for i in range(2,n+2):\n",
    "        total+=i\n",
    "        total-=arr[i-2]\n",
    "    return total\n",
    "    \n",
    "\n",
    "if __name__ == '__main__':\n",
    "    arr=[1, 2, 4, 6, 3, 7, 8]\n",
    "    print(findMissing(arr))\n"
   ]
  },
  {
   "cell_type": "markdown",
   "metadata": {},
   "source": [
    "<strong>XOR approach</strong>"
   ]
  },
  {
   "cell_type": "code",
   "execution_count": 13,
   "metadata": {},
   "outputs": [
    {
     "name": "stdout",
     "output_type": "stream",
     "text": [
      "5\n"
     ]
    }
   ],
   "source": [
    "def findMissing(arr):\n",
    "    x1=arr[0]\n",
    "    x2=1\n",
    "    for i in range(2,len(arr)+2):\n",
    "        x2=x2^i\n",
    "    for i in range(1,len(arr)):\n",
    "        x1=x1^arr[i]\n",
    "    return x1^x2\n",
    "if __name__ == '__main__':\n",
    "    arr=[1, 2, 4, 6, 3, 7, 8]\n",
    "    print(findMissing(arr))\n"
   ]
  },
  {
   "cell_type": "markdown",
   "metadata": {},
   "source": [
    "# Search an element in a sorted and rotated array"
   ]
  },
  {
   "cell_type": "markdown",
   "metadata": {},
   "source": [
    "The idea is to find the pivot point, divide the array in two sub-arrays and call binary search.\n",
    "The main idea for finding pivot is – for a sorted (in increasing order) and pivoted array, pivot element is the only element for which next element to it is smaller than it."
   ]
  },
  {
   "cell_type": "code",
   "execution_count": 18,
   "metadata": {},
   "outputs": [
    {
     "name": "stdout",
     "output_type": "stream",
     "text": [
      "8\n"
     ]
    }
   ],
   "source": [
    "def findPivot(arr,low,high):\n",
    "    if low>high:\n",
    "        return -1\n",
    "    mid=(low+high)//2\n",
    "    if mid<high and arr[mid]>arr[mid+1]:\n",
    "        return mid\n",
    "    if mid>low and arr[mid]<arr[mid-1]:\n",
    "        return mid-1\n",
    "    if arr[low]<arr[mid]:\n",
    "        return findPivot(arr,mid+1,high)\n",
    "    return findPivot(arr,low,mid-1)\n",
    "\n",
    "def searchSortedRotated(arr,key):\n",
    "    if len(arr)==0:\n",
    "        return -1\n",
    "    low=0\n",
    "    high=len(arr)-1\n",
    "    pivot=findPivot(arr,low,high)\n",
    "    #print(pivot)\n",
    "    if key==arr[pivot]:\n",
    "        return pivot\n",
    "    if key<arr[low]:\n",
    "        return binarySearch(arr,pivot+1,high,key)\n",
    "    return binarySearch(arr,low,pivot,key)\n",
    "\n",
    "def binarySearch(arr,low,high,key):\n",
    "    if low>high:\n",
    "        return -1\n",
    "    mid=(low+high)//2\n",
    "    if arr[mid]==key:\n",
    "        return mid\n",
    "    if key<arr[mid]:\n",
    "        return binarySearch(arr,low,mid-1,key)\n",
    "    return binarySearch(arr,mid+1,high,key)\n",
    "\n",
    "if __name__ == '__main__':\n",
    "    arr=[5, 6, 7, 8, 9, 10, 1, 2, 3]\n",
    "    print(searchSortedRotated(arr,3))\n"
   ]
  },
  {
   "cell_type": "markdown",
   "metadata": {},
   "source": [
    "<strong>Without finding pivot</strong>"
   ]
  },
  {
   "cell_type": "code",
   "execution_count": 20,
   "metadata": {},
   "outputs": [
    {
     "name": "stdout",
     "output_type": "stream",
     "text": [
      "8\n"
     ]
    }
   ],
   "source": [
    "def binarySearch(arr,low,high,key):\n",
    "    if low>high:\n",
    "        return -1\n",
    "    mid=(low+high)//2\n",
    "    if arr[mid]==key:\n",
    "        return mid\n",
    "    if arr[low]<=arr[mid]:\n",
    "        if key>=arr[low] and key<=arr[mid]:\n",
    "            return binarySearch(arr,low,mid-1,key)\n",
    "        return binarySearch(arr,mid+1,high,key)\n",
    "    else:\n",
    "        if key>=arr[mid] and key<=arr[high]:\n",
    "            return binarySearch(arr,mid+1,high,key)\n",
    "        return binarySearch(arr,low,mid-1,key)\n",
    "\n",
    "if __name__ == '__main__':\n",
    "    arr=[5, 6, 7, 8, 9, 10, 1, 2, 3]\n",
    "    print(binarySearch(arr,0,len(arr)-1,3))\n"
   ]
  },
  {
   "cell_type": "code",
   "execution_count": null,
   "metadata": {},
   "outputs": [],
   "source": []
  }
 ],
 "metadata": {
  "kernelspec": {
   "display_name": "Python 3",
   "language": "python",
   "name": "python3"
  },
  "language_info": {
   "codemirror_mode": {
    "name": "ipython",
    "version": 3
   },
   "file_extension": ".py",
   "mimetype": "text/x-python",
   "name": "python",
   "nbconvert_exporter": "python",
   "pygments_lexer": "ipython3",
   "version": "3.7.6"
  }
 },
 "nbformat": 4,
 "nbformat_minor": 4
}

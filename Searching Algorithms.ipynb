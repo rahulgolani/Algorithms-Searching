{
 "cells": [
  {
   "cell_type": "markdown",
   "metadata": {},
   "source": [
    "These algorithms are generally classified into two categories:\n",
    "\n",
    "Sequential Search: In this, the list or array is traversed sequentially and every element is checked. For example: Linear Search.\n",
    "<br>\n",
    "Interval Search: These algorithms are specifically designed for searching in sorted data-structures. These type of searching algorithms are much more efficient than Linear Search as they repeatedly target the center of the search structure and divide the search space in half. For Example: Binary Search."
   ]
  },
  {
   "cell_type": "markdown",
   "metadata": {},
   "source": [
    "# Linear Search"
   ]
  },
  {
   "cell_type": "code",
   "execution_count": 6,
   "metadata": {},
   "outputs": [
    {
     "name": "stdout",
     "output_type": "stream",
     "text": [
      "Element found at index 6\n"
     ]
    }
   ],
   "source": [
    "def search(arr,key):\n",
    "    if len(arr)==0:\n",
    "        return -1\n",
    "    for i in range(len(arr)):\n",
    "        if arr[i]==key:\n",
    "            return i\n",
    "    return -1\n",
    "\n",
    "if __name__ == '__main__':\n",
    "    arr=[10, 20, 80, 30, 60, 50, 110, 100, 130, 170]\n",
    "    key=110\n",
    "    result=search(arr,key)\n",
    "    if result!=-1:\n",
    "        print(f\"Element found at index {result}\")\n",
    "    else:\n",
    "        print(\"Element not found\")\n"
   ]
  },
  {
   "cell_type": "markdown",
   "metadata": {},
   "source": [
    "Time Complexity O(n)<br>Rarely Used\n"
   ]
  },
  {
   "cell_type": "markdown",
   "metadata": {},
   "source": [
    "# Binary Search"
   ]
  },
  {
   "cell_type": "code",
   "execution_count": 8,
   "metadata": {},
   "outputs": [
    {
     "name": "stdout",
     "output_type": "stream",
     "text": [
      "Element found at index 7\n"
     ]
    }
   ],
   "source": [
    "def search(arr,low,high,key):\n",
    "    if low>high:\n",
    "        return -1\n",
    "    mid=(low+high)//2\n",
    "    if arr[mid]==key:\n",
    "        return mid\n",
    "    elif key<arr[mid]:\n",
    "        return search(arr,low,mid-1,key)\n",
    "    return search(arr,mid+1,high,key)\n",
    "\n",
    "\n",
    "if __name__ == '__main__':\n",
    "    arr=[10, 20, 30, 50, 60, 80, 100, 110, 130, 170]\n",
    "    key=110\n",
    "    result=search(arr,0,len(arr)-1,key)\n",
    "    if result!=-1:\n",
    "        print(f\"Element found at index {result}\")\n",
    "    else:\n",
    "        print(\"Element not found\")\n"
   ]
  },
  {
   "cell_type": "markdown",
   "metadata": {},
   "source": [
    "# Iterative Binary Search"
   ]
  },
  {
   "cell_type": "code",
   "execution_count": 10,
   "metadata": {},
   "outputs": [
    {
     "name": "stdout",
     "output_type": "stream",
     "text": [
      "Element found at index 7\n"
     ]
    }
   ],
   "source": [
    "def search(arr,low,high,key):\n",
    "    if low>high:\n",
    "        return -1\n",
    "    while low<=high:\n",
    "        mid=(low+high)//2\n",
    "        if arr[mid]==key:\n",
    "            return mid\n",
    "        elif key<arr[mid]:\n",
    "            high=mid-1\n",
    "        else:\n",
    "            low=mid+1\n",
    "    return -1\n",
    "\n",
    "\n",
    "if __name__ == '__main__':\n",
    "    arr=[10, 20, 30, 50, 60, 80, 100, 110, 130, 170]\n",
    "    key=110\n",
    "    result=search(arr,0,len(arr)-1,key)\n",
    "    if result!=-1:\n",
    "        print(f\"Element found at index {result}\")\n",
    "    else:\n",
    "        print(\"Element not found\")\n"
   ]
  },
  {
   "cell_type": "markdown",
   "metadata": {},
   "source": [
    "Works Only for SORTED ARRAYS<br>\n",
    "\n",
    "The time complexity of Binary Search can be written as\n",
    "<br>\n",
    "T(n) = T(n/2) + c<br> \n",
    "The above recurrence can be solved either using Recurrence Tree method or Master method. It falls in case II of Master Method and solution of the recurrence is Theta(Logn).\n",
    "<br><br>\n",
    "Auxiliary Space: O(1) in case of iterative implementation. In case of recursive implementation, O(Logn) recursion call stack space."
   ]
  },
  {
   "cell_type": "markdown",
   "metadata": {},
   "source": [
    "# Jump Search"
   ]
  },
  {
   "cell_type": "markdown",
   "metadata": {},
   "source": [
    "Like Binary Search, Jump Search is a searching algorithm for sorted arrays. The basic idea is to check fewer elements (than linear search) by jumping ahead by fixed steps or skipping some elements in place of searching all elements"
   ]
  },
  {
   "cell_type": "markdown",
   "metadata": {},
   "source": [
    "For example, suppose we have an array arr[] of size n and block (to be jumped) size m. Then we search at the indexes arr[0], arr[m], arr[2m]…..arr[km] and so on. Once we find the interval (arr[km] < x < arr[(k+1)m]), we perform a linear search operation from the index km to find the element x."
   ]
  },
  {
   "cell_type": "markdown",
   "metadata": {},
   "source": [
    "<b>What is the optimal block size to be skipped?</b><br>\n",
    "In the worst case, we have to do n/m jumps and if the last checked value is greater than the element to be searched for, we perform m-1 comparisons more for linear search. Therefore the total number of comparisons in the worst case will be ((n/m) + m-1). The value of the function ((n/m) + m-1) will be minimum when m = √n. Therefore, the best step size is m = √n."
   ]
  },
  {
   "cell_type": "code",
   "execution_count": 12,
   "metadata": {},
   "outputs": [
    {
     "name": "stdout",
     "output_type": "stream",
     "text": [
      "Element found at index 7\n"
     ]
    }
   ],
   "source": [
    "from math import sqrt\n",
    "def search(arr,n,key):\n",
    "    if n==0:\n",
    "        return -1\n",
    "    jumpFactor=int(sqrt(n))\n",
    "    step=jumpFactor\n",
    "    prev=0\n",
    "    while arr[min(step,n)-1]<key: #getting the possible range\n",
    "        prev=step\n",
    "        step+=jumpFactor\n",
    "        if prev>=n: #if all Elements are smaller than the Element to be found\n",
    "            return -1\n",
    "    while arr[prev]<key:# check whether the Element is present in the range\n",
    "        prev+=1\n",
    "        if prev==min(step,n):# if block is over or end is reached\n",
    "            return -1\n",
    "    if arr[prev]==key:# if Element found at its desired location\n",
    "        return prev\n",
    "    return -1# Element not found at its desired location\n",
    "\n",
    "if __name__ == '__main__':\n",
    "    arr=[10, 20, 30, 50, 60, 80, 100, 110, 130, 170]\n",
    "    key=110\n",
    "    result=search(arr,len(arr),key)\n",
    "    if result!=-1:\n",
    "        print(f\"Element found at index {result}\")\n",
    "    else:\n",
    "        print(\"Element not found\")\n"
   ]
  },
  {
   "cell_type": "markdown",
   "metadata": {},
   "source": [
    "Time Complexity : O(√n)\n",
    "Auxiliary Space : O(1)"
   ]
  },
  {
   "cell_type": "markdown",
   "metadata": {},
   "source": [
    "<ul>\n",
    "<li>Works only sorted arrays.\n",
    "<li>The optimal size of a block to be jumped is (√ n). This makes the time complexity of Jump Search O(√ n).\n",
    "<li>The time complexity of Jump Search is between Linear Search ( ( O(n) ) and Binary Search ( O (Log n) ).\n",
    "Binary Search is better than Jump Search, but Jump search has an advantage that we traverse back only once (Binary Search may require up to O(Log n) jumps, consider a situation where the element to be searched is the smallest element or smaller than the smallest). So in a system where binary search is costly, we use Jump Search.\n",
    "</ul>"
   ]
  },
  {
   "cell_type": "markdown",
   "metadata": {},
   "source": [
    "# Interpolation Search"
   ]
  },
  {
   "cell_type": "markdown",
   "metadata": {},
   "source": [
    "The Interpolation Search is an improvement over Binary Search for instances, where the values in a sorted array are uniformly distributed. Binary Search always goes to the middle element to check. On the other hand, interpolation search may go to different locations according to the value of the key being searched. For example, if the value of the key is closer to the last element, interpolation search is likely to start search toward the end side."
   ]
  },
  {
   "cell_type": "markdown",
   "metadata": {},
   "source": [
    "The idea of formula is to return higher value of pos when element to be searched is closer to arr[hi]. And smaller value when closer to arr[lo]\n",
    "<br>probe position formula-><br>\n",
    "pos = lo + [ (x-arr[lo])*(hi-lo) / (arr[hi]-arr[Lo]) ]"
   ]
  },
  {
   "cell_type": "code",
   "execution_count": 3,
   "metadata": {},
   "outputs": [
    {
     "name": "stdout",
     "output_type": "stream",
     "text": [
      "9\n",
      "Element found at index 9\n"
     ]
    }
   ],
   "source": [
    "def search(arr,low,high,key):\n",
    "    if low>high:\n",
    "        return -1\n",
    "    while low<=high and key>=arr[low] and key<=arr[high]:\n",
    "        mid=low+((key-arr[low])*(high-low))//(arr[high]-arr[low])  //probe position formula\n",
    "        print(mid)\n",
    "        if arr[mid]==key:\n",
    "            return mid\n",
    "        elif key<arr[mid]:\n",
    "            high=mid-1\n",
    "        else:\n",
    "            low=mid+1\n",
    "    return -1\n",
    "\n",
    "\n",
    "if __name__ == '__main__':\n",
    "    arr=[10, 20, 30, 50, 60, 80, 100, 110, 130, 170]\n",
    "    key=170\n",
    "    result=search(arr,0,len(arr)-1,key)\n",
    "    if result!=-1:\n",
    "        print(f\"Element found at index {result}\")\n",
    "    else:\n",
    "        print(\"Element not found\")\n"
   ]
  },
  {
   "cell_type": "markdown",
   "metadata": {},
   "source": [
    " If elements are uniformly distributed (Every element has equal probability to occur), then O (log log n)). In worst case it can take upto O(n)."
   ]
  },
  {
   "cell_type": "code",
   "execution_count": 4,
   "metadata": {},
   "outputs": [],
   "source": [
    "# Exponential Search"
   ]
  },
  {
   "cell_type": "markdown",
   "metadata": {},
   "source": [
    "Exponential search involves two steps:\n",
    "<br><br>\n",
    "Find range where element is present<br>\n",
    "Do Binary Search in above found range."
   ]
  },
  {
   "cell_type": "markdown",
   "metadata": {},
   "source": [
    "<b>How to find the range where element may be present?</b>\n",
    "The idea is to start with subarray size 1, compare its last element with x, then try size 2, then 4 and so on until last element of a subarray is not greater.\n",
    "Once we find an index i (after repeated doubling of i), we know that the element must be present between i/2 and i (Why i/2? because we could not find a greater value in previous iteration)"
   ]
  },
  {
   "cell_type": "code",
   "execution_count": 5,
   "metadata": {},
   "outputs": [
    {
     "name": "stdout",
     "output_type": "stream",
     "text": [
      "Element found at index 7\n"
     ]
    }
   ],
   "source": [
    "def search(arr,low,high,key):\n",
    "    if arr[low]==key:\n",
    "        return low\n",
    "    #getting the range\n",
    "    i=1\n",
    "    while i<=high and arr[i]<=key:\n",
    "        i*=2\n",
    "\n",
    "    low=i//2\n",
    "    high=min(i,high)\n",
    "\n",
    "    while low<=high:\n",
    "        mid=(low+high)//2\n",
    "        if arr[mid]==key:\n",
    "            return mid\n",
    "        elif key<arr[mid]:\n",
    "            high=mid-1\n",
    "        else:\n",
    "            low=mid+1\n",
    "    return -1\n",
    "\n",
    "\n",
    "if __name__ == '__main__':\n",
    "    arr=[10, 20, 30, 50, 60, 80, 100, 110, 130, 170]\n",
    "    key=110\n",
    "    result=search(arr,0,len(arr)-1,key)\n",
    "    if result!=-1:\n",
    "        print(f\"Element found at index {result}\")\n",
    "    else:\n",
    "        print(\"Element not found\")\n"
   ]
  },
  {
   "cell_type": "markdown",
   "metadata": {},
   "source": [
    "<strong>Time Complexity :</strong> O(Log n)"
   ]
  },
  {
   "cell_type": "markdown",
   "metadata": {},
   "source": [
    "Applications of Exponential Search:\n",
    "<br><br>\n",
    "Exponential Binary Search is particularly useful for unbounded searches, where size of array is infinite.<br>\n",
    "It works better than Binary Search for bounded arrays, and also when the element to be searched is closer to the first element."
   ]
  },
  {
   "cell_type": "code",
   "execution_count": null,
   "metadata": {},
   "outputs": [],
   "source": []
  }
 ],
 "metadata": {
  "kernelspec": {
   "display_name": "Python 3",
   "language": "python",
   "name": "python3"
  },
  "language_info": {
   "codemirror_mode": {
    "name": "ipython",
    "version": 3
   },
   "file_extension": ".py",
   "mimetype": "text/x-python",
   "name": "python",
   "nbconvert_exporter": "python",
   "pygments_lexer": "ipython3",
   "version": "3.7.6"
  }
 },
 "nbformat": 4,
 "nbformat_minor": 4
}

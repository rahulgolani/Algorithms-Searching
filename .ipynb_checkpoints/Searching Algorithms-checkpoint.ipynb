{
 "cells": [
  {
   "cell_type": "markdown",
   "metadata": {},
   "source": [
    "These algorithms are generally classified into two categories:\n",
    "\n",
    "Sequential Search: In this, the list or array is traversed sequentially and every element is checked. For example: Linear Search.\n",
    "<br>\n",
    "Interval Search: These algorithms are specifically designed for searching in sorted data-structures. These type of searching algorithms are much more efficient than Linear Search as they repeatedly target the center of the search structure and divide the search space in half. For Example: Binary Search."
   ]
  },
  {
   "cell_type": "markdown",
   "metadata": {},
   "source": [
    "# Linear Search"
   ]
  },
  {
   "cell_type": "code",
   "execution_count": null,
   "metadata": {},
   "outputs": [],
   "source": [
    "def search(arr,key):\n",
    "    if len(arr)==0:\n",
    "        return -1\n",
    "    for i in range(len(arr)):\n",
    "        if arr[i]==key:\n",
    "            return i\n",
    "    return -1\n",
    "\n",
    "if __name__ == '__main__':\n",
    "    arr=[10, 20, 80, 30, 60, 50, 110, 100, 130, 170]\n",
    "    key=110\n",
    "    result=search(arr,key)\n",
    "    if result!=-1:\n",
    "        print(f\"Element found at index {result}\")\n",
    "    else:\n",
    "        print(\"Element not found\")\n"
   ]
  },
  {
   "cell_type": "markdown",
   "metadata": {},
   "source": [
    "Time Complexity O(n)<br>Rarely Used\n"
   ]
  },
  {
   "cell_type": "markdown",
   "metadata": {},
   "source": [
    "# Binary Search"
   ]
  },
  {
   "cell_type": "code",
   "execution_count": null,
   "metadata": {},
   "outputs": [],
   "source": [
    "def search(arr,low,high,key):\n",
    "    if low>high:\n",
    "        return -1\n",
    "    mid=(low+high)//2\n",
    "    if arr[mid]==key:\n",
    "        return mid\n",
    "    elif key<arr[mid]:\n",
    "        return search(arr,low,mid-1,key)\n",
    "    return search(arr,mid+1,high,key)\n",
    "\n",
    "\n",
    "if __name__ == '__main__':\n",
    "    arr=[10, 20, 30, 50, 60, 80, 100, 110, 130, 170]\n",
    "    key=110\n",
    "    result=search(arr,0,len(arr)-1,key)\n",
    "    if result!=-1:\n",
    "        print(f\"Element found at index {result}\")\n",
    "    else:\n",
    "        print(\"Element not found\")\n"
   ]
  },
  {
   "cell_type": "markdown",
   "metadata": {},
   "source": [
    "# Iterative Binary Search"
   ]
  },
  {
   "cell_type": "code",
   "execution_count": null,
   "metadata": {},
   "outputs": [],
   "source": [
    "def search(arr,low,high,key):\n",
    "    if low>high:\n",
    "        return -1\n",
    "    while low<=high:\n",
    "        mid=(low+high)//2\n",
    "        if arr[mid]==key:\n",
    "            return mid\n",
    "        elif key<arr[mid]:\n",
    "            high=mid-1\n",
    "        else:\n",
    "            low=mid+1\n",
    "    return -1\n",
    "\n",
    "\n",
    "if __name__ == '__main__':\n",
    "    arr=[10, 20, 30, 50, 60, 80, 100, 110, 130, 170]\n",
    "    key=110\n",
    "    result=search(arr,0,len(arr)-1,key)\n",
    "    if result!=-1:\n",
    "        print(f\"Element found at index {result}\")\n",
    "    else:\n",
    "        print(\"Element not found\")\n"
   ]
  },
  {
   "cell_type": "markdown",
   "metadata": {},
   "source": [
    "Works Only for SORTED ARRAYS<br>\n",
    "\n",
    "The time complexity of Binary Search can be written as\n",
    "<br>\n",
    "T(n) = T(n/2) + c<br> \n",
    "The above recurrence can be solved either using Recurrence Tree method or Master method. It falls in case II of Master Method and solution of the recurrence is Theta(Logn).\n",
    "<br><br>\n",
    "Auxiliary Space: O(1) in case of iterative implementation. In case of recursive implementation, O(Logn) recursion call stack space."
   ]
  },
  {
   "cell_type": "markdown",
   "metadata": {},
   "source": [
    "# Jump Search"
   ]
  },
  {
   "cell_type": "markdown",
   "metadata": {},
   "source": [
    "Like Binary Search, Jump Search is a searching algorithm for sorted arrays. The basic idea is to check fewer elements (than linear search) by jumping ahead by fixed steps or skipping some elements in place of searching all elements"
   ]
  },
  {
   "cell_type": "markdown",
   "metadata": {},
   "source": [
    "For example, suppose we have an array arr[] of size n and block (to be jumped) size m. Then we search at the indexes arr[0], arr[m], arr[2m]…..arr[km] and so on. Once we find the interval (arr[km] < x < arr[(k+1)m]), we perform a linear search operation from the index km to find the element x."
   ]
  },
  {
   "cell_type": "markdown",
   "metadata": {},
   "source": [
    "<b>What is the optimal block size to be skipped?</b><br>\n",
    "In the worst case, we have to do n/m jumps and if the last checked value is greater than the element to be searched for, we perform m-1 comparisons more for linear search. Therefore the total number of comparisons in the worst case will be ((n/m) + m-1). The value of the function ((n/m) + m-1) will be minimum when m = √n. Therefore, the best step size is m = √n."
   ]
  },
  {
   "cell_type": "code",
   "execution_count": null,
   "metadata": {},
   "outputs": [],
   "source": [
    "from math import sqrt\n",
    "def search(arr,n,key):\n",
    "    if n==0:\n",
    "        return -1\n",
    "    jumpFactor=int(sqrt(n))\n",
    "    step=jumpFactor\n",
    "    prev=0\n",
    "    while arr[min(step,n)-1]<key: #getting the possible range\n",
    "        prev=step\n",
    "        step+=jumpFactor\n",
    "        if prev>=n: #if all Elements are smaller than the Element to be found\n",
    "            return -1\n",
    "    while arr[prev]<key:# check whether the Element is present in the range\n",
    "        prev+=1\n",
    "        if prev==min(step,n):# if block is over or end is reached\n",
    "            return -1\n",
    "    if arr[prev]==key:# if Element found at its desired location\n",
    "        return prev\n",
    "    return -1# Element not found at its desired location\n",
    "\n",
    "if __name__ == '__main__':\n",
    "    arr=[10, 20, 30, 50, 60, 80, 100, 110, 130, 170]\n",
    "    key=110\n",
    "    result=search(arr,len(arr),key)\n",
    "    if result!=-1:\n",
    "        print(f\"Element found at index {result}\")\n",
    "    else:\n",
    "        print(\"Element not found\")\n"
   ]
  },
  {
   "cell_type": "markdown",
   "metadata": {},
   "source": [
    "Time Complexity : O(√n)\n",
    "Auxiliary Space : O(1)"
   ]
  },
  {
   "cell_type": "markdown",
   "metadata": {},
   "source": [
    "<ul>\n",
    "<li>Works only sorted arrays.\n",
    "<li>The optimal size of a block to be jumped is (√ n). This makes the time complexity of Jump Search O(√ n).\n",
    "<li>The time complexity of Jump Search is between Linear Search ( ( O(n) ) and Binary Search ( O (Log n) ).\n",
    "Binary Search is better than Jump Search, but Jump search has an advantage that we traverse back only once (Binary Search may require up to O(Log n) jumps, consider a situation where the element to be searched is the smallest element or smaller than the smallest). So in a system where binary search is costly, we use Jump Search.\n",
    "</ul>"
   ]
  },
  {
   "cell_type": "markdown",
   "metadata": {},
   "source": [
    "# Interpolation Search"
   ]
  },
  {
   "cell_type": "markdown",
   "metadata": {},
   "source": [
    "The Interpolation Search is an improvement over Binary Search for instances, where the values in a sorted array are uniformly distributed. Binary Search always goes to the middle element to check. On the other hand, interpolation search may go to different locations according to the value of the key being searched. For example, if the value of the key is closer to the last element, interpolation search is likely to start search toward the end side."
   ]
  },
  {
   "cell_type": "markdown",
   "metadata": {},
   "source": [
    "The idea of formula is to return higher value of pos when element to be searched is closer to arr[hi]. And smaller value when closer to arr[lo]\n",
    "<br>probe position formula-><br>\n",
    "pos = lo + [ (x-arr[lo])*(hi-lo) / (arr[hi]-arr[Lo]) ]"
   ]
  },
  {
   "cell_type": "code",
   "execution_count": null,
   "metadata": {},
   "outputs": [],
   "source": [
    "def search(arr,low,high,key):\n",
    "    if low>high:\n",
    "        return -1\n",
    "    while low<=high and key>=arr[low] and key<=arr[high]:\n",
    "        mid=low+((key-arr[low])*(high-low))//(arr[high]-arr[low])  //probe position formula\n",
    "        print(mid)\n",
    "        if arr[mid]==key:\n",
    "            return mid\n",
    "        elif key<arr[mid]:\n",
    "            high=mid-1\n",
    "        else:\n",
    "            low=mid+1\n",
    "    return -1\n",
    "\n",
    "\n",
    "if __name__ == '__main__':\n",
    "    arr=[10, 20, 30, 50, 60, 80, 100, 110, 130, 170]\n",
    "    key=170\n",
    "    result=search(arr,0,len(arr)-1,key)\n",
    "    if result!=-1:\n",
    "        print(f\"Element found at index {result}\")\n",
    "    else:\n",
    "        print(\"Element not found\")\n"
   ]
  },
  {
   "cell_type": "markdown",
   "metadata": {},
   "source": [
    " If elements are uniformly distributed (Gaps between the elements should be similar, if not exactly the same), then O (log log n)). In worst case it can take upto O(n)."
   ]
  },
  {
   "cell_type": "markdown",
   "metadata": {},
   "source": [
    "# Exponential Search"
   ]
  },
  {
   "cell_type": "markdown",
   "metadata": {},
   "source": [
    "Exponential search involves two steps:\n",
    "<br><br>\n",
    "Find range where element is present<br>\n",
    "Do Binary Search in above found range."
   ]
  },
  {
   "cell_type": "markdown",
   "metadata": {},
   "source": [
    "<b>How to find the range where element may be present?</b>\n",
    "The idea is to start with subarray size 1, compare its last element with x, then try size 2, then 4 and so on until last element of a subarray is not greater.\n",
    "Once we find an index i (after repeated doubling of i), we know that the element must be present between i/2 and i (Why i/2? because we could not find a greater value in previous iteration)"
   ]
  },
  {
   "cell_type": "code",
   "execution_count": null,
   "metadata": {},
   "outputs": [],
   "source": [
    "def search(arr,low,high,key):\n",
    "    if arr[low]==key:\n",
    "        return low\n",
    "    #getting the range\n",
    "    i=1\n",
    "    while i<=high and arr[i]<=key:\n",
    "        i*=2\n",
    "\n",
    "    low=i//2\n",
    "    high=min(i,high)\n",
    "\n",
    "    while low<=high:\n",
    "        mid=(low+high)//2\n",
    "        if arr[mid]==key:\n",
    "            return mid\n",
    "        elif key<arr[mid]:\n",
    "            high=mid-1\n",
    "        else:\n",
    "            low=mid+1\n",
    "    return -1\n",
    "\n",
    "\n",
    "if __name__ == '__main__':\n",
    "    arr=[10, 20, 30, 50, 60, 80, 100, 110, 130, 170]\n",
    "    key=110\n",
    "    result=search(arr,0,len(arr)-1,key)\n",
    "    if result!=-1:\n",
    "        print(f\"Element found at index {result}\")\n",
    "    else:\n",
    "        print(\"Element not found\")\n"
   ]
  },
  {
   "cell_type": "markdown",
   "metadata": {},
   "source": [
    "<strong>Time Complexity :</strong> O(Log n)"
   ]
  },
  {
   "cell_type": "markdown",
   "metadata": {},
   "source": [
    "Applications of Exponential Search:\n",
    "<br><br>\n",
    "Exponential Binary Search is particularly useful for unbounded searches, where size of array is infinite.<br>\n",
    "It works better than Binary Search for bounded arrays, and also when the element to be searched is closer to the first element."
   ]
  },
  {
   "cell_type": "markdown",
   "metadata": {},
   "source": [
    "# Sublist Search (Search a linked list in another list)"
   ]
  },
  {
   "cell_type": "code",
   "execution_count": null,
   "metadata": {},
   "outputs": [],
   "source": [
    "class Node:\n",
    "    def __init__(self,data):\n",
    "        self.data=data\n",
    "        self.next=None\n",
    "\n",
    "class LinkedList:\n",
    "    def __init__(self):\n",
    "        self.head = None\n",
    "\n",
    "    def insert(self,key):\n",
    "        temp=Node(key)\n",
    "        if self.head is None:\n",
    "            self.head=temp\n",
    "            return\n",
    "        temp.next=self.head\n",
    "        self.head=temp\n",
    "\n",
    "    def traverse(self):\n",
    "        if self.head is None:\n",
    "            return\n",
    "        temp=self.head\n",
    "        while temp:\n",
    "            print(temp.data,end=\" \")\n",
    "            temp=temp.next\n",
    "        print()\n",
    "\n",
    "    def search(self,list2):\n",
    "        if self.head is None and list2 is None:\n",
    "            return True\n",
    "        if list2 is None and self.head is not None:\n",
    "            return False\n",
    "        temp=self.head\n",
    "        curr=list2\n",
    "        while temp and curr:\n",
    "            if temp.data==curr.data:\n",
    "                temp=temp.next\n",
    "                curr=curr.next\n",
    "                if curr is None:\n",
    "                    return True\n",
    "            elif curr!= list2:\n",
    "                curr=list2\n",
    "            else:\n",
    "                temp=temp.next\n",
    "        return False\n",
    "\n",
    "if __name__ == '__main__':\n",
    "    l=LinkedList()\n",
    "    l.insert(4)\n",
    "    l.insert(3)\n",
    "    l.insert(2)\n",
    "    l.insert(1)\n",
    "    l.insert(2)\n",
    "    l.insert(1)\n",
    "    #l.traverse()\n",
    "    list2=LinkedList()\n",
    "    list2.insert(4)\n",
    "    list2.insert(3)\n",
    "    list2.insert(2)\n",
    "    list2.insert(1)\n",
    "    #list2.traverse()\n",
    "    result=l.search(list2.head)\n",
    "    if result:\n",
    "        print(\"List Found\")\n",
    "    else:\n",
    "        print('List Not Found')\n"
   ]
  },
  {
   "cell_type": "markdown",
   "metadata": {},
   "source": [
    "Time Complexity : O(m*n) where m is the number of nodes in second list and n in first\n",
    "<br>\n",
    "Optimization :\n",
    "Can be optimized by using extra space i.e. stores the list into two strings and apply KMP algorithm.(Pattern Matching)"
   ]
  },
  {
   "cell_type": "markdown",
   "metadata": {},
   "source": [
    "# Fibonacci Search"
   ]
  },
  {
   "cell_type": "markdown",
   "metadata": {},
   "source": [
    "# Recursive Linear Search"
   ]
  },
  {
   "cell_type": "code",
   "execution_count": null,
   "metadata": {},
   "outputs": [],
   "source": [
    "def searchRecur(arr,key,n):\n",
    "    if n<0:\n",
    "        return -1\n",
    "    if arr[n]==key:\n",
    "        return n\n",
    "    return searchRecur(arr,key,n-1)\n",
    "\n",
    "def search(arr,key):\n",
    "    n=len(arr)-1\n",
    "    return searchRecur(arr,key,n)\n",
    "\n",
    "\n",
    "if __name__ == '__main__':\n",
    "    arr=[10, 20, 80, 30, 60, 50, 110, 100, 130, 170]\n",
    "    key=110\n",
    "    result=search(arr,key)\n",
    "    if result!=-1:\n",
    "        print(f\"Element found at index {result}\")\n",
    "    else:\n",
    "        print(\"Element not found\")\n"
   ]
  },
  {
   "cell_type": "markdown",
   "metadata": {},
   "source": [
    "# 2 Pointer Recursive Linear Search"
   ]
  },
  {
   "cell_type": "code",
   "execution_count": 6,
   "metadata": {},
   "outputs": [
    {
     "name": "stdout",
     "output_type": "stream",
     "text": [
      "Element found at index 6\n"
     ]
    }
   ],
   "source": [
    "def searchRecur(arr,key,low,high):\n",
    "    if low>high:\n",
    "        return -1\n",
    "    if arr[low]==key:\n",
    "        return low\n",
    "    if arr[high]==key:\n",
    "        return high\n",
    "    return searchRecur(arr,key,low+1,high-1)\n",
    "\n",
    "def search(arr,key):\n",
    "    n=len(arr)-1\n",
    "    return searchRecur(arr,key,0,n)\n",
    "\n",
    "\n",
    "if __name__ == '__main__':\n",
    "    arr=[10, 20, 80, 30, 60, 50, 110, 100, 130, 170]\n",
    "    key=110\n",
    "    result=search(arr,key)\n",
    "    if result!=-1:\n",
    "        print(f\"Element found at index {result}\")\n",
    "    else:\n",
    "        print(\"Element not found\")\n"
   ]
  },
  {
   "cell_type": "markdown",
   "metadata": {},
   "source": [
    "# Unbounded Binary Search\n",
    "Example of Exponential Search"
   ]
  },
  {
   "cell_type": "markdown",
   "metadata": {},
   "source": [
    "Given a function ‘int f(unsigned int x)’ which takes a non-negative integer ‘x’ as input and returns an integer as output. The function is monotonically increasing with respect to value of x, i.e., the value of f(x+1) is greater than f(x) for every input x. Find the value ‘n’ where f() becomes positive for the first time. Since f() is monotonically increasing, values of f(n+1), f(n+2),… must be positive and values of f(n-2), f(n-3), .. must be negative."
   ]
  },
  {
   "cell_type": "code",
   "execution_count": 7,
   "metadata": {},
   "outputs": [
    {
     "name": "stdout",
     "output_type": "stream",
     "text": [
      "12\n"
     ]
    }
   ],
   "source": [
    "def f(x):\n",
    "    return (x * x - 10 * x - 20)\n",
    "\n",
    "def binarySearch():\n",
    "    if f(0)>0:\n",
    "        return 0\n",
    "    i=1\n",
    "    while f(i)<0:\n",
    "        i*=2\n",
    "    low=i//2\n",
    "    high=i\n",
    "    while low<=high:\n",
    "        mid=(low+high)//2\n",
    "        if f(mid)>0 and (mid==low or f(mid-1)<0):\n",
    "            return mid\n",
    "        elif f(mid)<0:\n",
    "            low=mid+1\n",
    "        else:\n",
    "            high=mid-1\n",
    "if __name__ == '__main__':\n",
    "    result=binarySearch()\n",
    "    #print(f(12),f(11))\n",
    "    print(result)\n"
   ]
  },
  {
   "cell_type": "markdown",
   "metadata": {},
   "source": [
    "Linear search performs equality comparisons and Binary search performs ordering comparisons"
   ]
  },
  {
   "cell_type": "markdown",
   "metadata": {},
   "source": [
    "<strong>Interpolation search vs Binary search</strong><br><br>\n",
    "Interpolation search works better than Binary Search for a sorted and uniformly distributed array.\n",
    "On average the interpolation search makes about log(log(n)) comparisons (if the elements are uniformly distributed), where n is the number of elements to be searched. In the worst case (for instance where the numerical values of the keys increase exponentially) it can make up to O(n) comparisons."
   ]
  },
  {
   "cell_type": "markdown",
   "metadata": {},
   "source": [
    "<strong>Why is Binary Search preferred over Ternary Search?</strong>"
   ]
  },
  {
   "cell_type": "markdown",
   "metadata": {},
   "source": [
    "<strong> Ternary Search</strong>"
   ]
  },
  {
   "cell_type": "code",
   "execution_count": 8,
   "metadata": {},
   "outputs": [
    {
     "name": "stdout",
     "output_type": "stream",
     "text": [
      "Element found at index 5\n"
     ]
    }
   ],
   "source": [
    "def ternarySearch(arr,low,high,key):\n",
    "    if low>high:\n",
    "        return -1\n",
    "    mid1=low+(high-low)//3\n",
    "    mid2=mid1+(high-low)//3\n",
    "    if arr[mid1]==key:\n",
    "        return mid1\n",
    "    if arr[mid2]==key:\n",
    "        return mid2\n",
    "    if key<arr[mid1]:\n",
    "        return ternarySearch(arr,low,mid1-1,key)\n",
    "    if key>arr[mid2]:\n",
    "        return ternarySearch(arr,mid2+1,high,key)\n",
    "    return ternarySearch(arr,mid1+1,mid2-1,key)\n",
    "\n",
    "if __name__ == '__main__':\n",
    "    arr=[10, 20, 30, 50, 60, 80, 100, 110, 130, 170]\n",
    "    key=80\n",
    "    result=ternarySearch(arr,0,len(arr)-1,key)\n",
    "    if result!=-1:\n",
    "        print(f\"Element found at index {result}\")\n",
    "    else:\n",
    "        print(\"Element not found\")\n"
   ]
  },
  {
   "cell_type": "markdown",
   "metadata": {},
   "source": [
    "The following is recursive formula for counting comparisons in worst case of Binary Search.\n",
    "<br><br>\n",
    "   T(n) = T(n/2) + 2,  T(1) = 1\n",
    "The following is recursive formula for counting comparisons in worst case of Ternary Search.\n",
    "<br><br>\n",
    "   T(n) = T(n/3) + 4, T(1) = 1\n",
    "In binary search, there are 2Log2n + 1 comparisons in worst case. In ternary search, there are 4Log3n + 1 comparisons in worst case.\n",
    "<br>\n",
    "Time Complexity for Binary search = 2clog2n + O(1)<br>\n",
    "Time Complexity for Ternary search = 4clog3n + O(1)<br>\n",
    "Therefore, the comparison of Ternary and Binary Searches boils down the comparison of expressions 2Log3n and Log2n . The value of 2Log3n can be written as (2 / Log23) * Log2n . Since the value of (2 / Log23) is more than one, Ternary Search does more comparisons than Binary Search in worst case."
   ]
  },
  {
   "cell_type": "markdown",
   "metadata": {},
   "source": [
    "# Find the Missing Number\n",
    "You are given a list of n-1 integers and these integers are in the range of 1 to n. There are no duplicates in the list. One of the integers is missing in the list. "
   ]
  },
  {
   "cell_type": "markdown",
   "metadata": {},
   "source": [
    "O(n2) solution"
   ]
  },
  {
   "cell_type": "code",
   "execution_count": 9,
   "metadata": {},
   "outputs": [
    {
     "name": "stdout",
     "output_type": "stream",
     "text": [
      "5\n"
     ]
    }
   ],
   "source": [
    "def search(arr,key):\n",
    "    if len(arr)==0:\n",
    "        return -1\n",
    "    for i in range(len(arr)):\n",
    "        if arr[i]==key:\n",
    "            return i\n",
    "    return -1\n",
    "\n",
    "def findMissing(arr):\n",
    "    for i in range(1,len(arr)+2):\n",
    "        if search(arr,i)==-1:\n",
    "            return i\n",
    "\n",
    "if __name__ == '__main__':\n",
    "    arr=[1, 2, 4, 6, 3, 7, 8]\n",
    "    print(findMissing(arr))\n"
   ]
  },
  {
   "cell_type": "markdown",
   "metadata": {},
   "source": [
    "O(n) solution using hashing Space->O(n)"
   ]
  },
  {
   "cell_type": "code",
   "execution_count": 10,
   "metadata": {},
   "outputs": [
    {
     "name": "stdout",
     "output_type": "stream",
     "text": [
      "5\n"
     ]
    }
   ],
   "source": [
    "def findMissing(arr):\n",
    "    temp=[False]*(len(arr)+1)\n",
    "    for i in arr:\n",
    "        temp[i-1]=True\n",
    "    for i in range(len(temp)):\n",
    "        if temp[i]==False:\n",
    "            return i+1\n",
    "\n",
    "if __name__ == '__main__':\n",
    "    arr=[1, 2, 4, 6, 3, 7, 8]\n",
    "    print(findMissing(arr))\n"
   ]
  },
  {
   "cell_type": "markdown",
   "metadata": {},
   "source": [
    "<strong>Sum Approach</strong>"
   ]
  },
  {
   "cell_type": "code",
   "execution_count": 11,
   "metadata": {},
   "outputs": [
    {
     "name": "stdout",
     "output_type": "stream",
     "text": [
      "5\n"
     ]
    }
   ],
   "source": [
    "def findMissing(arr):\n",
    "    n=len(arr)+1\n",
    "    total=n*(n+1)//2\n",
    "    for i in arr:\n",
    "        total-=i\n",
    "    return total\n",
    "\n",
    "if __name__ == '__main__':\n",
    "    arr=[1, 2, 4, 6, 3, 7, 8]\n",
    "    print(findMissing(arr))\n"
   ]
  },
  {
   "cell_type": "markdown",
   "metadata": {},
   "source": [
    "<strong>Above solution can lead to integer overflow if the number is very large</strong>"
   ]
  },
  {
   "cell_type": "code",
   "execution_count": 12,
   "metadata": {},
   "outputs": [
    {
     "name": "stdout",
     "output_type": "stream",
     "text": [
      "5\n"
     ]
    }
   ],
   "source": [
    "def findMissing(arr):\n",
    "    n=len(arr)\n",
    "    i=0\n",
    "    total=1\n",
    "    for i in range(2,n+2):\n",
    "        total+=i\n",
    "        total-=arr[i-2]\n",
    "    return total\n",
    "    \n",
    "\n",
    "if __name__ == '__main__':\n",
    "    arr=[1, 2, 4, 6, 3, 7, 8]\n",
    "    print(findMissing(arr))\n"
   ]
  },
  {
   "cell_type": "markdown",
   "metadata": {},
   "source": [
    "<strong>XOR approach</strong>"
   ]
  },
  {
   "cell_type": "code",
   "execution_count": 13,
   "metadata": {},
   "outputs": [
    {
     "name": "stdout",
     "output_type": "stream",
     "text": [
      "5\n"
     ]
    }
   ],
   "source": [
    "def findMissing(arr):\n",
    "    x1=arr[0]\n",
    "    x2=1\n",
    "    for i in range(2,len(arr)+2):\n",
    "        x2=x2^i\n",
    "    for i in range(1,len(arr)):\n",
    "        x1=x1^arr[i]\n",
    "    return x1^x2\n",
    "if __name__ == '__main__':\n",
    "    arr=[1, 2, 4, 6, 3, 7, 8]\n",
    "    print(findMissing(arr))\n"
   ]
  },
  {
   "cell_type": "markdown",
   "metadata": {},
   "source": [
    "# Search an element in a sorted and rotated array"
   ]
  },
  {
   "cell_type": "markdown",
   "metadata": {},
   "source": [
    "The idea is to find the pivot point, divide the array in two sub-arrays and call binary search.\n",
    "The main idea for finding pivot is – for a sorted (in increasing order) and pivoted array, pivot element is the only element for which next element to it is smaller than it."
   ]
  },
  {
   "cell_type": "code",
   "execution_count": 14,
   "metadata": {},
   "outputs": [
    {
     "name": "stdout",
     "output_type": "stream",
     "text": [
      "8\n"
     ]
    }
   ],
   "source": [
    "def findPivot(arr,low,high):\n",
    "    if low>high:\n",
    "        return -1\n",
    "    mid=(low+high)//2\n",
    "    if mid<high and arr[mid]>arr[mid+1]:\n",
    "        return mid\n",
    "    if mid>low and arr[mid]<arr[mid-1]:\n",
    "        return mid-1\n",
    "    if arr[low]<arr[mid]:\n",
    "        return findPivot(arr,mid+1,high)\n",
    "    return findPivot(arr,low,mid-1)\n",
    "\n",
    "def searchSortedRotated(arr,key):\n",
    "    if len(arr)==0:\n",
    "        return -1\n",
    "    low=0\n",
    "    high=len(arr)-1\n",
    "    pivot=findPivot(arr,low,high)\n",
    "    #print(pivot)\n",
    "    if key==arr[pivot]:\n",
    "        return pivot\n",
    "    if key<arr[low]:\n",
    "        return binarySearch(arr,pivot+1,high,key)\n",
    "    return binarySearch(arr,low,pivot,key)\n",
    "\n",
    "def binarySearch(arr,low,high,key):\n",
    "    if low>high:\n",
    "        return -1\n",
    "    mid=(low+high)//2\n",
    "    if arr[mid]==key:\n",
    "        return mid\n",
    "    if key<arr[mid]:\n",
    "        return binarySearch(arr,low,mid-1,key)\n",
    "    return binarySearch(arr,mid+1,high,key)\n",
    "\n",
    "if __name__ == '__main__':\n",
    "    arr=[5, 6, 7, 8, 9, 10, 1, 2, 3]\n",
    "    print(searchSortedRotated(arr,3))\n"
   ]
  },
  {
   "cell_type": "markdown",
   "metadata": {},
   "source": [
    "<strong>Without finding pivot</strong>"
   ]
  },
  {
   "cell_type": "code",
   "execution_count": 15,
   "metadata": {},
   "outputs": [
    {
     "name": "stdout",
     "output_type": "stream",
     "text": [
      "8\n"
     ]
    }
   ],
   "source": [
    "def binarySearch(arr,low,high,key):\n",
    "    if low>high:\n",
    "        return -1\n",
    "    mid=(low+high)//2\n",
    "    if arr[mid]==key:\n",
    "        return mid\n",
    "    if arr[low]<=arr[mid]:\n",
    "        if key>=arr[low] and key<=arr[mid]:\n",
    "            return binarySearch(arr,low,mid-1,key)\n",
    "        return binarySearch(arr,mid+1,high,key)\n",
    "    else:\n",
    "        if key>=arr[mid] and key<=arr[high]:\n",
    "            return binarySearch(arr,mid+1,high,key)\n",
    "        return binarySearch(arr,low,mid-1,key)\n",
    "\n",
    "if __name__ == '__main__':\n",
    "    arr=[5, 6, 7, 8, 9, 10, 1, 2, 3]\n",
    "    print(binarySearch(arr,0,len(arr)-1,3))\n"
   ]
  },
  {
   "cell_type": "markdown",
   "metadata": {},
   "source": [
    "# Median of two sorted arrays of same size"
   ]
  },
  {
   "cell_type": "markdown",
   "metadata": {},
   "source": [
    "![](median2.jpg)"
   ]
  },
  {
   "cell_type": "markdown",
   "metadata": {},
   "source": [
    "![](median1.jpg)"
   ]
  },
  {
   "cell_type": "code",
   "execution_count": 16,
   "metadata": {},
   "outputs": [
    {
     "name": "stdout",
     "output_type": "stream",
     "text": [
      "16\n"
     ]
    }
   ],
   "source": [
    "def getMedian(a,b,n):\n",
    "    if n==0:\n",
    "        return -1\n",
    "    if n==1:\n",
    "        return (a[0]+b[0])//2\n",
    "    if n==2:\n",
    "        return (max(a[0],b[0])+min(a[1],b[1]))//2\n",
    "    else:\n",
    "        m1=median(a,n)\n",
    "        m2=median(b,n)\n",
    "\n",
    "        if m1>m2:\n",
    "            if n%2==0:\n",
    "                return getMedian(a[:n//2+1],b[n//2-1:],n//2+1)\n",
    "            else:\n",
    "                return getMedian(a[:n//2+1],b[n//2:],n//2+1)\n",
    "        else:\n",
    "            if n%2==0:\n",
    "                return getMedian(a[n//2-1:],b[:n//2+1],n//2+1)\n",
    "            else:\n",
    "                return getMedian(a[n//2:],b[:n//2+1],n//2+1)\n",
    "\n",
    "def median(arr,n):\n",
    "    if n%2==0:\n",
    "        return (arr[n//2]+arr[n//2-1])//2\n",
    "    else:\n",
    "        return arr[n//2]\n",
    "\n",
    "if __name__ == '__main__':\n",
    "    a=[1, 12, 15, 26, 38]\n",
    "    b=[2, 13, 17, 30, 45]\n",
    "    print(getMedian(a,b,len(a)))\n"
   ]
  },
  {
   "cell_type": "markdown",
   "metadata": {},
   "source": [
    "# Two elements whose sum is closest to zero"
   ]
  },
  {
   "cell_type": "code",
   "execution_count": 17,
   "metadata": {},
   "outputs": [
    {
     "name": "stdout",
     "output_type": "stream",
     "text": [
      "[-80, -10, 1, 60, 70, 85]\n",
      "-80 85\n"
     ]
    }
   ],
   "source": [
    "def getClosestSumElements(arr):\n",
    "    arr.sort()\n",
    "    print(arr)\n",
    "    l=0\n",
    "    r=len(arr)-1\n",
    "    result=float('infinity')\n",
    "    min_l=l;min_r=r\n",
    "    while l<r:\n",
    "        minsum=arr[l]+arr[r]\n",
    "        if abs(minsum)<result:\n",
    "            result=abs(minsum)\n",
    "            min_l=l\n",
    "            min_r=r\n",
    "        elif minsum<0:\n",
    "            l+=1\n",
    "        else:\n",
    "            r-=1\n",
    "    return [min_l,min_r]\n",
    "\n",
    "if __name__ == '__main__':\n",
    "    arr=[1, 60, -10, 70, -80, 85]\n",
    "    result=getClosestSumElements(arr)\n",
    "    print(arr[result[0]],arr[result[1]])\n"
   ]
  },
  {
   "cell_type": "markdown",
   "metadata": {},
   "source": [
    "<strong>Time Complexity</strong> O(nlogn)"
   ]
  },
  {
   "cell_type": "markdown",
   "metadata": {},
   "source": [
    "# Find the smallest and second smallest element in an array"
   ]
  },
  {
   "cell_type": "code",
   "execution_count": 18,
   "metadata": {},
   "outputs": [
    {
     "name": "stdout",
     "output_type": "stream",
     "text": [
      "1 10\n"
     ]
    }
   ],
   "source": [
    "def getSmallest(arr):\n",
    "    if len(arr)==0:\n",
    "        return -1\n",
    "    if len(arr)==1:\n",
    "        return [arr[0],-1]\n",
    "    if len(arr)==2:\n",
    "        if arr[0]>arr[1]:\n",
    "            return [arr[1],arr[0]]\n",
    "        return [arr[0],arr[1]]\n",
    "    smallest=float('infinity')\n",
    "    secondSmallest=float('infinity')+1\n",
    "    for i in range(len(arr)):\n",
    "        if arr[i]<smallest:\n",
    "            secondSmallest=smallest\n",
    "            smallest=arr[i]\n",
    "        elif arr[i]>smallest and arr[i]<secondSmallest:\n",
    "            secondSmallest=arr[i]\n",
    "    return [smallest,secondSmallest]\n",
    "\n",
    "if __name__ == '__main__':\n",
    "    arr=[12, 13, 1, 10, 34, 1]\n",
    "    result=getSmallest(arr)\n",
    "    print(result[0],result[1])\n"
   ]
  },
  {
   "cell_type": "markdown",
   "metadata": {},
   "source": [
    "# Maximum and minimum of an array using minimum number of comparisons (Tournament Method)"
   ]
  },
  {
   "cell_type": "code",
   "execution_count": 19,
   "metadata": {},
   "outputs": [
    {
     "name": "stdout",
     "output_type": "stream",
     "text": [
      "(1, 3000)\n"
     ]
    }
   ],
   "source": [
    "#TOURNAMENT METHOD TO FIND MIN MAX OF AN ARRAY (DIVIDE AND CONQUER)\n",
    "\n",
    "def getMinMax(arr,low,high):\n",
    "    if low==high:\n",
    "        return (arr[low],arr[low])\n",
    "    if high==low+1:\n",
    "        if arr[low]<arr[high]:\n",
    "            return (arr[low],arr[high])\n",
    "        return (arr[high],arr[low])\n",
    "    else:\n",
    "        mid=(low+high)//2\n",
    "        min1,max1=getMinMax(arr,low,mid)\n",
    "        min2,max2=getMinMax(arr,mid+1,high)\n",
    "    return (min(min1,min2),max(max1,max2))\n",
    "\n",
    "if __name__ == '__main__':\n",
    "    arr=[1000, 11, 445, 1, 330, 3000]\n",
    "    result=getMinMax(arr,0,len(arr)-1)\n",
    "    print(result)\n",
    "# calculate total comparisons\n"
   ]
  },
  {
   "cell_type": "markdown",
   "metadata": {},
   "source": [
    "<strong>Comparing in pairs</strong>"
   ]
  },
  {
   "cell_type": "code",
   "execution_count": 20,
   "metadata": {},
   "outputs": [
    {
     "name": "stdout",
     "output_type": "stream",
     "text": [
      "(1, 3000)\n"
     ]
    }
   ],
   "source": [
    "#COMPARING IN PAIRS\n",
    "\n",
    "def getMinMax(arr,low,high):\n",
    "    if low==high:\n",
    "        return (arr[low],arr[low])\n",
    "    if high==low+1:\n",
    "        if arr[low]<arr[high]:\n",
    "            return (arr[low],arr[high])\n",
    "        return (arr[high],arr[low])\n",
    "    n=high-low+1\n",
    "    if n%2==0:\n",
    "        minEle=arr[0]\n",
    "        maxEle=arr[1]\n",
    "        i=2\n",
    "    else:\n",
    "        minEle=maxEle=arr[0]\n",
    "        i=1\n",
    "    while i<n-1:\n",
    "        if arr[i]<arr[i+1]:\n",
    "            minEle=min(minEle,arr[i])\n",
    "            maxEle=max(maxEle,arr[i+1])\n",
    "        else:\n",
    "            minEle=min(minEle,arr[i+1])\n",
    "            maxEle=max(maxEle,arr[i])\n",
    "        i+=2\n",
    "    return (minEle,maxEle)\n",
    "\n",
    "if __name__ == '__main__':\n",
    "    arr=[1000, 11, 445, 1, 330, 3000]\n",
    "    result=getMinMax(arr,0,len(arr)-1)\n",
    "    print(result)\n",
    "# calculate total comparisons\n"
   ]
  },
  {
   "cell_type": "markdown",
   "metadata": {},
   "source": [
    "# k largest(or smallest) elements in an array"
   ]
  },
  {
   "cell_type": "markdown",
   "metadata": {},
   "source": [
    "<strong>Temporary array method</strong>\n",
    "1) Store the first k elements in a temporary array temp[0..k-1].<br>\n",
    "2) Find the smallest element in temp[], let the smallest element be min.<br>\n",
    "3-a) For each element x in arr[k] to arr[n-1]. O(n-k)<br>\n",
    "If x is greater than the min then remove min from temp[] and insert x.<br>\n",
    "3-b)Then, determine the new min from temp[]. O(k)<br>\n",
    "4) Print final k elements of temp[]<br>\n",
    "<br>\n",
    "Time Complexity: O((n-k)*k). If we want the output sorted then O((n-k)*k + klogk)"
   ]
  },
  {
   "cell_type": "code",
   "execution_count": 21,
   "metadata": {},
   "outputs": [
    {
     "name": "stdout",
     "output_type": "stream",
     "text": [
      "[30, 23, 50]\n"
     ]
    }
   ],
   "source": [
    "def getKLargest(arr,k):\n",
    "    if len(arr)==0:\n",
    "        return -1\n",
    "    if len(arr)<=k:\n",
    "        return arr\n",
    "    temp=arr[:k]\n",
    "    smallest=min(temp)\n",
    "    smallest_index=temp.index(smallest)\n",
    "    for i in range(k,len(arr)):\n",
    "        if arr[i]>temp[smallest_index]:\n",
    "            temp[smallest_index]=arr[i]\n",
    "            arr[i],arr[smallest_index]=arr[smallest_index],arr[i]\n",
    "            smallest=min(temp)\n",
    "            smallest_index=temp.index(smallest)\n",
    "    return temp\n",
    "\n",
    "if __name__ == '__main__':\n",
    "    arr=[1, 23, 12, 9, 30, 2, 50]\n",
    "    k=3\n",
    "    result=getKLargest(arr,k)\n",
    "    print(result)\n"
   ]
  },
  {
   "cell_type": "markdown",
   "metadata": {},
   "source": [
    "Method 2(Use Sorting)<br>\n",
    "1) Sort the elements in descending order in O(nLogn)\n",
    "2) Print the first k numbers of the sorted array O(k)."
   ]
  },
  {
   "cell_type": "markdown",
   "metadata": {},
   "source": [
    "Method 3(Modify Bubble sort to sun for k times)"
   ]
  },
  {
   "cell_type": "markdown",
   "metadata": {},
   "source": [
    "Method 4 (Using Max-Heap) "
   ]
  },
  {
   "cell_type": "code",
   "execution_count": 22,
   "metadata": {},
   "outputs": [
    {
     "name": "stdout",
     "output_type": "stream",
     "text": [
      "[50, 30, 23]\n"
     ]
    }
   ],
   "source": [
    "import heapq\n",
    "\n",
    "def getKLargest(arr,k):\n",
    "    if len(arr)==0:\n",
    "        return -1\n",
    "    if len(arr)<=k:\n",
    "        return arr\n",
    "    heapq._heapify_max(arr)\n",
    "    #print(arr)\n",
    "    result=[]\n",
    "    for _ in range(k):\n",
    "        result.append(heapq._heappop_max(arr))\n",
    "    return result\n",
    "\n",
    "\n",
    "if __name__ == '__main__':\n",
    "    arr=[1, 23, 12, 9, 30, 2, 50]\n",
    "    k=3\n",
    "    result=getKLargest(arr,k)\n",
    "    print(result)\n"
   ]
  },
  {
   "cell_type": "markdown",
   "metadata": {},
   "source": [
    "Time Complexity-> O(n+klogn) [time to build tree + extract k elements]"
   ]
  },
  {
   "cell_type": "markdown",
   "metadata": {},
   "source": [
    "Method 5 - Order Statistics\n",
    "TO DO"
   ]
  },
  {
   "cell_type": "markdown",
   "metadata": {},
   "source": [
    "# Floor and Ceiling in a sorted array"
   ]
  },
  {
   "cell_type": "code",
   "execution_count": 23,
   "metadata": {},
   "outputs": [
    {
     "name": "stdout",
     "output_type": "stream",
     "text": [
      "(2, 8)\n"
     ]
    }
   ],
   "source": [
    "def getFloorCeil(arr,low,high,x):\n",
    "    if low>high:\n",
    "        return -1\n",
    "    mid=(low+high)//2\n",
    "\n",
    "    #print(arr[mid],x)\n",
    "    if arr[mid]==x:\n",
    "        return (arr[mid],arr[mid])\n",
    "    if mid==low and arr[mid]>x:\n",
    "        return (-1,arr[mid])\n",
    "    if mid==high and arr[mid]<x:\n",
    "        return (arr[mid],-1)\n",
    "    if arr[mid]<x and mid<high and arr[mid+1]>x:\n",
    "        return (arr[mid],arr[mid+1])\n",
    "    if arr[mid]>x and mid>low and arr[mid-1]<x:\n",
    "        return (arr[mid-1],arr[mid])\n",
    "    if arr[mid]>x:\n",
    "        return getFloorCeil(arr,low,mid-1,x)\n",
    "    return getFloorCeil(arr,mid+1,high,x)\n",
    "\n",
    "if __name__ == '__main__':\n",
    "    arr=[1, 2, 8, 10, 10, 12, 19]\n",
    "    result=getFloorCeil(arr,0,len(arr)-1,6)\n",
    "    print(result)\n"
   ]
  },
  {
   "cell_type": "markdown",
   "metadata": {},
   "source": [
    "O(logn)"
   ]
  },
  {
   "cell_type": "markdown",
   "metadata": {},
   "source": [
    "# Floor and Ceiling in an Unsorted array"
   ]
  },
  {
   "cell_type": "markdown",
   "metadata": {},
   "source": [
    "<strong>Divide and Conquer Approach</strong>"
   ]
  },
  {
   "cell_type": "code",
   "execution_count": 24,
   "metadata": {},
   "outputs": [
    {
     "name": "stdout",
     "output_type": "stream",
     "text": [
      "(9, -1)\n"
     ]
    }
   ],
   "source": [
    "def getFloorCeilUtil(a,b,x):\n",
    "    #print(a,b)\n",
    "    if a[0]==x or a[1]==x or b[0]==x or b[1]==x:\n",
    "        return (x,x)\n",
    "\n",
    "    if a[0]<x and b[0]<x:\n",
    "        floor=max(a[0],b[0])\n",
    "    elif a[0]>x and b[0]>x:\n",
    "        floor=-1\n",
    "    elif a[0]>x and b[0]<x:\n",
    "        floor=b[0]\n",
    "    else:\n",
    "        floor=a[0]\n",
    "\n",
    "    if a[1]<x and b[1]<x:\n",
    "        ceil=-1\n",
    "    elif a[1]>x and b[1]>x:\n",
    "        ceil=min(a[1],b[1])\n",
    "    elif a[1]>x and b[1]<x:\n",
    "        ceil=a[1]\n",
    "    else:\n",
    "        ceil=b[1]\n",
    "    return (floor,ceil)\n",
    "\n",
    "def getFloorCeil(arr,low,high,x):\n",
    "    if low==high:\n",
    "        if arr[low]==x:\n",
    "            return (arr[low],arr[low])\n",
    "        else:\n",
    "            if arr[low]>x:\n",
    "                return (-1,arr[low])\n",
    "            return (arr[low],-1)\n",
    "    mid=(low+high)//2\n",
    "    result1=getFloorCeil(arr,low,mid,x)\n",
    "    result2=getFloorCeil(arr,mid+1,high,x)\n",
    "    #print(result1,result2,low,high)\n",
    "    result=getFloorCeilUtil(result1,result2,x)\n",
    "    return result\n",
    "if __name__ == '__main__':\n",
    "    arr=[5,6,8,9,6,5,5,6]\n",
    "    result=getFloorCeil(arr,0,len(arr)-1,10)\n",
    "    print(result)\n"
   ]
  },
  {
   "cell_type": "markdown",
   "metadata": {},
   "source": [
    "2T(n/2)+1"
   ]
  },
  {
   "cell_type": "markdown",
   "metadata": {},
   "source": [
    "<strong>Using Linear Search in O(n) time</<strong>>"
   ]
  },
  {
   "cell_type": "markdown",
   "metadata": {},
   "source": [
    "The idea is to traverse array and keep track of two distances with respect to x.<br>\n",
    "1) Minimum distance of element greater than or equal to x.<br>\n",
    "2) Minimum distance of element smaller than or equal to x.<br>\n",
    "Finally print elements with minimum distances."
   ]
  },
  {
   "cell_type": "code",
   "execution_count": 25,
   "metadata": {},
   "outputs": [
    {
     "name": "stdout",
     "output_type": "stream",
     "text": [
      "(6, 8)\n"
     ]
    }
   ],
   "source": [
    "def getFloorCeil(arr,x):\n",
    "    if len(arr)==0:\n",
    "        return (-1,-1)\n",
    "    cDistance=float('infinity')\n",
    "    fDistance=float('infinity')\n",
    "    ceil=-1;floor=-1\n",
    "    for i in range(len(arr)):\n",
    "        if arr[i]>=x and cDistance>abs(arr[i]-x):\n",
    "            ceil=arr[i]\n",
    "            cDistance=abs(arr[i]-x)\n",
    "        if arr[i]<=x and fDistance>abs(arr[i]-x):\n",
    "            floor=arr[i]\n",
    "            fDistance=abs(arr[i]-x)\n",
    "    if cDistance==float('infinity'):\n",
    "        ceil=-1\n",
    "    if fDistance==float('infinity'):\n",
    "        floor=-1\n",
    "    return (floor,ceil)\n",
    "        \n",
    "if __name__ == '__main__':\n",
    "    arr=[5,6,8,9,6,5,5,6]\n",
    "    result=getFloorCeil(arr,7)\n",
    "    print(result)\n"
   ]
  },
  {
   "cell_type": "markdown",
   "metadata": {},
   "source": [
    "# Count number of occurrences (or frequency) in a sorted array"
   ]
  },
  {
   "cell_type": "code",
   "execution_count": 26,
   "metadata": {},
   "outputs": [
    {
     "name": "stdout",
     "output_type": "stream",
     "text": [
      "4\n"
     ]
    }
   ],
   "source": [
    "def getFirstIndex(arr,low,high,x):\n",
    "    #print(low,high)\n",
    "    if low>high:\n",
    "        return -1\n",
    "    if arr[low]==x:\n",
    "        return low\n",
    "    mid=(low+high)//2\n",
    "    if mid>low and arr[mid]==x and arr[mid-1]!=x:\n",
    "        return mid\n",
    "    if x<=arr[mid]:\n",
    "        return getFirstIndex(arr,low,mid-1,x)\n",
    "    return getFirstIndex(arr,mid+1,high,x)\n",
    "\n",
    "def getLastIndex(arr,low,high,x):\n",
    "    #print(low,high)\n",
    "    if low>high:\n",
    "        return -1\n",
    "    if arr[high]==x:\n",
    "        return high\n",
    "    mid=(low+high)//2\n",
    "    if mid<high and arr[mid]==x and arr[mid+1]!=x:\n",
    "        return mid\n",
    "    if x<arr[mid]:\n",
    "        return getLastIndex(arr,low,mid-1,x)\n",
    "    return getLastIndex(arr,mid+1,high,x)\n",
    "\n",
    "\n",
    "\n",
    "\n",
    "def getCount(arr,x):\n",
    "    if len(arr)==0:\n",
    "        return 0\n",
    "    start=getFirstIndex(arr,0,len(arr)-1,x)\n",
    "    #print(start)\n",
    "    end=getLastIndex(arr,0,len(arr)-1,x)\n",
    "    #print(end)\n",
    "    if start==-1 or end==-1:\n",
    "        return 0\n",
    "    else:\n",
    "        return end-start+1\n",
    "\n",
    "if __name__ == '__main__':\n",
    "    arr=[1, 1, 2, 2, 2, 2, 3]\n",
    "    result=getCount(arr,2)\n",
    "    print(result)\n"
   ]
  },
  {
   "cell_type": "markdown",
   "metadata": {},
   "source": [
    "Time- O(logn)"
   ]
  },
  {
   "cell_type": "markdown",
   "metadata": {},
   "source": [
    "# Find the repeating and the missing"
   ]
  },
  {
   "cell_type": "code",
   "execution_count": 27,
   "metadata": {},
   "outputs": [
    {
     "name": "stdout",
     "output_type": "stream",
     "text": [
      "The repeated element is 1 and missing element is 5\n"
     ]
    }
   ],
   "source": [
    "def getRepeatedMissing(arr):\n",
    "    map={}\n",
    "    for i in range(1,len(arr)+1):\n",
    "        map[i]=0\n",
    "    for i in arr:\n",
    "        map[i]+=1\n",
    "    repeated=0\n",
    "    missing=0\n",
    "    for i in map:\n",
    "        if map[i]==2:\n",
    "            repeated=i\n",
    "        if map[i]==0:\n",
    "            missing=i\n",
    "    return [repeated,missing]\n",
    "\n",
    "\n",
    "if __name__ == '__main__':\n",
    "    arr=[4, 3, 6, 2, 1, 1]\n",
    "    result=getRepeatedMissing(arr)\n",
    "    print(f\"The repeated element is {result[0]} and missing element is {result[1]}\")\n"
   ]
  },
  {
   "cell_type": "markdown",
   "metadata": {},
   "source": [
    "<strong>Other Approaches-></strong><br>\n",
    "a)Sorting-> O(nlogn)\n",
    "b)Using count array-><br><br>\n",
    "Create a temp array temp[] of size n with all initial values as 0.<br>\n",
    "Traverse the input array arr[], and do following for each arr[i]<br>\n",
    "if(temp[arr[i]] == 0) temp[arr[i]] = 1;<br>\n",
    "if(temp[arr[i]] == 1) output “arr[i]” //repeating<br>\n",
    "Traverse temp[] and output the array element having value as 0 (This is the missing element)\n",
    "<br>\n",
    "c)Use elements as Index and mark the visited places\n",
    "<br><br>\n",
    "Traverse the array. While traversing, use the absolute value of every element as an index and make the value at this index as negative to mark it visited. If something is already marked negative then this is the repeating element. To find missing, traverse the array again and look for a positive value."
   ]
  },
  {
   "cell_type": "code",
   "execution_count": 28,
   "metadata": {},
   "outputs": [
    {
     "name": "stdout",
     "output_type": "stream",
     "text": [
      "The repeated element is 5 and missing element is 1\n"
     ]
    }
   ],
   "source": [
    "#Implementation of Approach c->\n",
    "def getRepeatedMissing(arr):\n",
    "    repeated=0\n",
    "    missing=0\n",
    "    for i in range(len(arr)):\n",
    "        if arr[abs(arr[i])-1]>0:\n",
    "            arr[abs(arr[i])-1]=-1*arr[abs(arr[i])-1]\n",
    "        else:\n",
    "            repeated=abs(arr[i])\n",
    "    #print(arr)\n",
    "    for i in range(len(arr)):\n",
    "        if arr[i]>0:\n",
    "            missing=i+1\n",
    "            break\n",
    "    return [repeated,missing]\n",
    "\n",
    "\n",
    "if __name__ == '__main__':\n",
    "    arr=[7, 3, 4, 5, 5, 6, 2]\n",
    "    result=getRepeatedMissing(arr)\n",
    "    print(f\"The repeated element is {result[0]} and missing element is {result[1]}\")\n"
   ]
  },
  {
   "cell_type": "markdown",
   "metadata": {},
   "source": [
    "XOR Approach -- to do"
   ]
  },
  {
   "cell_type": "markdown",
   "metadata": {},
   "source": [
    "# Find a Fixed Point (Value equal to index) in a given array"
   ]
  },
  {
   "cell_type": "code",
   "execution_count": 58,
   "metadata": {},
   "outputs": [
    {
     "name": "stdout",
     "output_type": "stream",
     "text": [
      "3\n"
     ]
    }
   ],
   "source": [
    "def findFixedPoint(arr,low,high):\n",
    "    if low>high:\n",
    "        return -1\n",
    "    mid=(low+high)//2\n",
    "    if arr[mid]==mid:\n",
    "        return mid\n",
    "    if mid>arr[mid]:\n",
    "        return findFixedPoint(arr,mid+1,high)\n",
    "    return findFixedPoint(arr,low,mid-1)\n",
    "\n",
    "\n",
    "if __name__ == '__main__':\n",
    "    arr=[-10, -1, 0, 3, 10, 11, 30, 50, 100]\n",
    "    result=findFixedPoint(arr,0,len(arr)-1)\n",
    "    print(result)\n"
   ]
  },
  {
   "cell_type": "code",
   "execution_count": 59,
   "metadata": {},
   "outputs": [],
   "source": [
    "# Find a Fixed Point (Value equal to index) in a given array with duplicates allowed"
   ]
  },
  {
   "cell_type": "markdown",
   "metadata": {},
   "source": [
    "If elements are not distinct, then we see arr[mid] < mid, we cannot conclude which side the fixed is on. It could be on left side or on the right side.\n",
    "<br>\n",
    "So, the general pattern of our search would be:\n",
    "<br>\n",
    "Left Side: start = start, end = min(arr[midIndex], midIndex-1)\n",
    "Right Side: start = max(arr[midIndex], midIndex+1), end = end"
   ]
  },
  {
   "cell_type": "code",
   "execution_count": 32,
   "metadata": {},
   "outputs": [
    {
     "name": "stdout",
     "output_type": "stream",
     "text": [
      "2\n"
     ]
    }
   ],
   "source": [
    "def findFixedPoint(arr,low,high):\n",
    "    if low>high:\n",
    "        return -1\n",
    "    mid=(low+high)//2\n",
    "    if arr[mid]==mid:\n",
    "        return mid\n",
    "    left=findFixedPoint(arr,low,min(mid-1,arr[mid]))\n",
    "    if left>0:\n",
    "        return left\n",
    "    return findFixedPoint(arr,max(mid+1,arr[mid]),high)\n",
    "\n",
    "if __name__ == '__main__':\n",
    "    arr=[-10, -5, 2, 2, 2, 3, 4, 7, 9, 12, 13]\n",
    "    result=findFixedPoint(arr,0,len(arr)-1)\n",
    "    print(result)\n"
   ]
  },
  {
   "cell_type": "markdown",
   "metadata": {},
   "source": [
    "# Find the maximum element in an array which is first increasing and then decreasing"
   ]
  },
  {
   "cell_type": "code",
   "execution_count": 61,
   "metadata": {},
   "outputs": [
    {
     "name": "stdout",
     "output_type": "stream",
     "text": [
      "10\n"
     ]
    }
   ],
   "source": [
    "def findMaxUtil(arr,low,high):\n",
    "    #print(low,high)\n",
    "    if low>high:\n",
    "        return -1\n",
    "    mid=(low+high)//2\n",
    "    #print(arr[mid])\n",
    "    if arr[mid]>arr[mid+1] and arr[mid]>arr[mid-1]:\n",
    "        return arr[mid]\n",
    "    if arr[mid]<arr[mid+1]:\n",
    "        return findMaxUtil(arr,mid+1,high)\n",
    "    return findMaxUtil(arr,low,mid-1)\n",
    "\n",
    "def findMax(arr,low,high):\n",
    "    if low>high:\n",
    "        return -1\n",
    "    if low==high:\n",
    "        return arr[low]\n",
    "    if high>low:\n",
    "        if arr[high]>arr[high-1]: #Non decreasing\n",
    "            return arr[high]\n",
    "        if arr[low]>arr[low+1]:   #Non Increasing\n",
    "            return arr[low]\n",
    "    return findMaxUtil(arr,low,high)\n",
    "\n",
    "\n",
    "if __name__ == '__main__':\n",
    "    arr=[2, 4, 6, 8, 10, 3, 1]\n",
    "    result=findMax(arr,0,len(arr)-1)\n",
    "    print(result)\n"
   ]
  },
  {
   "cell_type": "markdown",
   "metadata": {},
   "source": [
    "# Find a pair with the given difference"
   ]
  },
  {
   "cell_type": "markdown",
   "metadata": {},
   "source": [
    "Sorting and two pointer approach"
   ]
  },
  {
   "cell_type": "markdown",
   "metadata": {},
   "source": [
    "Hashing approach"
   ]
  },
  {
   "cell_type": "markdown",
   "metadata": {},
   "source": [
    "# Find the k most frequent words from a file --  After Trie"
   ]
  },
  {
   "cell_type": "markdown",
   "metadata": {},
   "source": [
    "# Find a peak element"
   ]
  },
  {
   "cell_type": "code",
   "execution_count": 38,
   "metadata": {},
   "outputs": [
    {
     "name": "stdout",
     "output_type": "stream",
     "text": [
      "20\n"
     ]
    }
   ],
   "source": [
    "def findPeak(arr,low,high):\n",
    "    if low>high:\n",
    "        return -1\n",
    "    if low==high:\n",
    "        return arr[low]\n",
    "    mid=(low+high)//2\n",
    "    '''\n",
    "    if ((mid == 0 or arr[mid - 1] <= arr[mid]) and (mid == n - 1 or arr[mid + 1] <= arr[mid])):\n",
    "        return mid\n",
    "    Combining the three conditions into one\n",
    "    '''\n",
    "    if mid==0 and arr[mid]>arr[mid+1]:\n",
    "        return arr[mid]\n",
    "    if mid==len(arr)-1 and arr[mid]>arr[mid-1]:\n",
    "        return arr[mid]\n",
    "    if arr[mid]>arr[mid-1] and arr[mid]>arr[mid+1]:\n",
    "        return arr[mid]\n",
    "    if arr[mid]<arr[mid-1]:\n",
    "        left=findPeak(arr,low,mid-1)\n",
    "        if left>0:\n",
    "            return left\n",
    "    return findPeak(arr,mid+1,high)\n",
    "\n",
    "if __name__ == '__main__':\n",
    "    arr=[5, 10, 20, 15]\n",
    "    result=findPeak(arr,0,len(arr)-1)\n",
    "    print(result)\n"
   ]
  },
  {
   "cell_type": "markdown",
   "metadata": {},
   "source": [
    "# Given an array of of size n and a number k, find all elements that appear more than n/k times"
   ]
  },
  {
   "cell_type": "code",
   "execution_count": 40,
   "metadata": {},
   "outputs": [
    {
     "name": "stdout",
     "output_type": "stream",
     "text": [
      "[3, 2]\n"
     ]
    }
   ],
   "source": [
    "def findEle(arr,n,k):\n",
    "    factor=n//k\n",
    "    map={}\n",
    "    for i in arr:\n",
    "        if i in map:\n",
    "            map[i]+=1\n",
    "        else:\n",
    "            map[i]=1\n",
    "    result=[]\n",
    "    for key,values in map.items():\n",
    "        if map[key]>factor:\n",
    "            result.append(key)\n",
    "    return result\n",
    "\n",
    "if __name__ == '__main__':\n",
    "    arr=[3, 1, 2, 2, 1, 2, 3, 3]\n",
    "    result=findEle(arr,len(arr),4)\n",
    "    print(result)\n"
   ]
  },
  {
   "cell_type": "markdown",
   "metadata": {},
   "source": [
    "Another approach could have been to sort the array and check for the elements O(nlogn)<br>\n",
    "Another approach based on the tetris game"
   ]
  },
  {
   "cell_type": "markdown",
   "metadata": {},
   "source": [
    "# Find the minimum element in a sorted and rotated array\n",
    "Done"
   ]
  },
  {
   "cell_type": "markdown",
   "metadata": {},
   "source": [
    "# Kth smallest element in a row-wise and column-wise sorted 2D array"
   ]
  },
  {
   "cell_type": "code",
   "execution_count": 44,
   "metadata": {},
   "outputs": [
    {
     "name": "stdout",
     "output_type": "stream",
     "text": [
      "30\n"
     ]
    }
   ],
   "source": [
    "from heapq import heapify\n",
    "from math import ceil\n",
    "class HeapNode:\n",
    "    def __init__(self,data,i,j):\n",
    "        self.data=data\n",
    "        self.r=i\n",
    "        self.c=j\n",
    "\n",
    "\n",
    "def minHeapify(arr,i):\n",
    "    heapsize=len(arr)\n",
    "    l=2*i+1\n",
    "    r=2*i+2\n",
    "    if l<heapsize and arr[i].data>arr[l].data:\n",
    "        smallest=l\n",
    "    else:\n",
    "        smallest=i\n",
    "    if r<heapsize and arr[r].data<arr[smallest].data:\n",
    "        smallest=r\n",
    "    if smallest!=i:\n",
    "        arr[i],arr[smallest]=arr[smallest],arr[i]\n",
    "        minHeapify(arr,smallest)\n",
    "\n",
    "def buildHeap(arr,n):\n",
    "    for i in range(ceil(n//2)-1,-1,-1):\n",
    "        minHeapify(arr,i)\n",
    "\n",
    "\n",
    "def findSmallest(arr,k):\n",
    "    h_array=[-1]*len(arr)\n",
    "    for i in range(len(arr)):\n",
    "        h_array[i]=HeapNode(arr[0][i],0,i)\n",
    "    buildHeap(h_array,len(arr))\n",
    "\n",
    "    for i in range(k):\n",
    "        hr=h_array[0]\n",
    "        if hr.r<len(arr)-1:\n",
    "            nextVal=arr[hr.r+1][hr.c]\n",
    "        else:\n",
    "            nextVal=float('infinity')\n",
    "        h_array[0]=HeapNode(nextVal,hr.r+1,hr.c)\n",
    "        minHeapify(h_array,0)\n",
    "    return hr.data\n",
    "\n",
    "\n",
    "\n",
    "if __name__ == '__main__':\n",
    "    arr=[[10, 20, 30, 40], [15, 25, 35, 45], [25, 29, 37, 48], [32, 33, 39, 50]]\n",
    "    k=7\n",
    "    result=findSmallest(arr,k)\n",
    "    print(result)\n"
   ]
  },
  {
   "cell_type": "markdown",
   "metadata": {},
   "source": [
    "Time Complexity: The above solution involves following steps.\n",
    "Building a min-heap which takes O(n) time\n",
    "Heapify k times which takes O(k Logn) time.\n",
    "Therefore, overall time complexity is O(n + kLogn).\n",
    "\n",
    "Space Complexity: O(R), where R is the length of a row, as the Min-Heap stores one row at a time."
   ]
  },
  {
   "cell_type": "markdown",
   "metadata": {},
   "source": [
    "# Find k closest elements to a given value"
   ]
  },
  {
   "cell_type": "code",
   "execution_count": 46,
   "metadata": {},
   "outputs": [
    {
     "name": "stdout",
     "output_type": "stream",
     "text": [
      "[39, 30, 42, 45]\n"
     ]
    }
   ],
   "source": [
    "def getclosest(arr,k,val):\n",
    "    l=r=0\n",
    "    result=[]\n",
    "    for i in range(len(arr)):\n",
    "        if arr[i]==x:\n",
    "            break\n",
    "    l=i-1\n",
    "    r=i+1\n",
    "    for j in range(k):\n",
    "        if l>=0 and r<len(arr):\n",
    "            if abs(arr[i]-arr[l])<abs(arr[i]-arr[r]):\n",
    "                result.append(arr[l])\n",
    "                l-=1\n",
    "            else:\n",
    "                result.append(arr[r])\n",
    "                r+=1\n",
    "        elif l>=0:\n",
    "            result.append(arr[l])\n",
    "            l-=1\n",
    "        else:\n",
    "            result.append(arr[r])\n",
    "            r+=1\n",
    "    return result\n",
    "\n",
    "\n",
    "if __name__ == '__main__':\n",
    "    arr=[12, 16, 22, 30, 35, 39, 42, 45, 48, 50, 53, 55, 56]\n",
    "    k=4\n",
    "    x=35\n",
    "    result=getclosest(arr,k,x)\n",
    "    print(result)\n"
   ]
  },
  {
   "cell_type": "markdown",
   "metadata": {},
   "source": [
    "Optimization- Use Binary Search to find the value in that case the time complexity would be O(logn+k)"
   ]
  },
  {
   "cell_type": "markdown",
   "metadata": {},
   "source": [
    "# Search in an almost sorted array\n",
    "Given an array which is sorted, but after sorting some elements are moved to either of the adjacent positions, i.e., arr[i] may be present at arr[i+1] or arr[i-1]. Write an efficient function to search an element in this array. Basically the element arr[i] can only be swapped with either arr[i+1] or arr[i-1]."
   ]
  },
  {
   "cell_type": "markdown",
   "metadata": {},
   "source": [
    "The idea is to compare the key with middle 3 elements, if present then return the index. If not present, then compare the key with middle element to decide whether to go in left half or right half. Comparing with middle element is enough as all the elements after mid+2 must be greater than element mid and all elements before mid-2 must be smaller than mid element."
   ]
  },
  {
   "cell_type": "code",
   "execution_count": 49,
   "metadata": {},
   "outputs": [
    {
     "name": "stdout",
     "output_type": "stream",
     "text": [
      "0\n"
     ]
    }
   ],
   "source": [
    "def search(arr,low,high,x):\n",
    "    if low>high:\n",
    "        return -1\n",
    "    mid=(low+high)//2\n",
    "    if arr[mid]==x:\n",
    "        return mid\n",
    "    if mid>low and arr[mid]-1 ==x:\n",
    "        return mid-1\n",
    "    if mid<high and arr[mid+1]==x:\n",
    "        return mid+1\n",
    "    if x<arr[mid]:\n",
    "        return search(arr,low,mid-2,x)\n",
    "    return search(arr,mid+2,high,x)\n",
    "\n",
    "if __name__ == '__main__':\n",
    "    \n",
    "    arr=[3, 2, 10, 4, 40]\n",
    "    print(search(arr,0,len(arr)-1,3))\n"
   ]
  },
  {
   "cell_type": "markdown",
   "metadata": {},
   "source": [
    "A Problem in Many Binary Search Implementations<br>\n",
    "The Algorithm looks fine except one subtle thing, the expression “mid = (l+r)/2”. It fails for large values of l and r. Specifically, it fails if the sum of low and high is greater than the maximum positive int value (231 – 1). The sum overflows to a negative value, and the value stays negative when divided by two.<br>\n",
    "What is the way to resolve this problem?\n",
    "<br>\n",
    "int mid = low + ((high - low) / 2); "
   ]
  },
  {
   "cell_type": "markdown",
   "metadata": {},
   "source": [
    "# Find the first repeating element in an array of integers (Unsorted)"
   ]
  },
  {
   "cell_type": "code",
   "execution_count": 51,
   "metadata": {},
   "outputs": [
    {
     "name": "stdout",
     "output_type": "stream",
     "text": [
      "{10: [1, 0], 5: [2, 1], 3: [2, 2], 4: [1, 3], 6: [1, 6]}\n",
      "5\n"
     ]
    }
   ],
   "source": [
    "def findRepeating(arr,n):\n",
    "    map={}\n",
    "    result=float('infinity')\n",
    "    for i in range(n):\n",
    "        if arr[i] in map:\n",
    "            map[arr[i]][0]+=1\n",
    "        else:\n",
    "            map[arr[i]]=[1,i]\n",
    "    print(map)\n",
    "    for i in map:\n",
    "        if map[i][0]>1:\n",
    "            result=min(result,map[i][1])\n",
    "\n",
    "    if result==float('infinity'):\n",
    "        return -1\n",
    "    else:\n",
    "        return arr[result]\n",
    "\n",
    "\n",
    "if __name__ == '__main__':\n",
    "    arr=[10, 5, 3, 4, 3, 5, 6]\n",
    "    n=len(arr)\n",
    "    result=findRepeating(arr,n)\n",
    "    print(result    )\n"
   ]
  },
  {
   "cell_type": "markdown",
   "metadata": {},
   "source": [
    "Optimization-Traverse array from back the last element that repeats is the one repeating first"
   ]
  },
  {
   "cell_type": "markdown",
   "metadata": {},
   "source": [
    "O(n) time and O(n) space"
   ]
  },
  {
   "cell_type": "markdown",
   "metadata": {},
   "source": [
    "# Find common elements in three sorted arrays"
   ]
  },
  {
   "cell_type": "code",
   "execution_count": 53,
   "metadata": {},
   "outputs": [
    {
     "name": "stdout",
     "output_type": "stream",
     "text": [
      "20\n",
      "80\n"
     ]
    }
   ],
   "source": [
    "def getCommonEle(arr1,arr2,arr3):\n",
    "    i=j=k=0\n",
    "    n1=len(arr1)\n",
    "    n2=len(arr2)\n",
    "    n3=len(arr3)\n",
    "    while i<n1 and j<n2 and k<n3:\n",
    "        if arr1[i]==arr2[j] and arr2[j]==arr3[k] and arr3[k]==arr1[i]:\n",
    "            print(arr1[i])\n",
    "            i+=1\n",
    "            j+=1\n",
    "            k+=1\n",
    "        elif arr1[i]<arr2[j]:\n",
    "            i+=1\n",
    "        elif arr2[j]<arr3[k]:\n",
    "            j+=1\n",
    "        elif arr3[k]<arr1[i]:\n",
    "            k+=1\n",
    "\n",
    "if __name__ == '__main__':\n",
    "    arr1=[1, 5, 10, 20, 40, 80]\n",
    "    arr2=[6, 7, 20, 80, 100]\n",
    "    arr3=[3, 4, 15, 20, 30, 70, 80, 120]\n",
    "    getCommonEle(arr1,arr2,arr3)\n"
   ]
  },
  {
   "cell_type": "markdown",
   "metadata": {},
   "source": [
    "O(n1+n2+n3)"
   ]
  },
  {
   "cell_type": "markdown",
   "metadata": {},
   "source": [
    "# Count 1’s in a sorted binary array"
   ]
  },
  {
   "cell_type": "code",
   "execution_count": 55,
   "metadata": {},
   "outputs": [
    {
     "name": "stdout",
     "output_type": "stream",
     "text": [
      "5\n"
     ]
    }
   ],
   "source": [
    "def getCountUtil(arr,low,high):\n",
    "    if low>high:\n",
    "        return -1\n",
    "    mid=(low+high)//2\n",
    "    if arr[mid]==1  and mid<high and arr[mid+1]!=1:\n",
    "        return mid+1\n",
    "    if arr[mid]==0:\n",
    "        return getCountUtil(arr,low,mid-1)\n",
    "    return getCountUtil(arr,mid+1,high)\n",
    "\n",
    "def getCount(arr):\n",
    "    if arr[0]==0:\n",
    "        return 0\n",
    "    if arr[len(arr)-1]==1:\n",
    "        return len(arr)\n",
    "    return getCountUtil(arr,0,len(arr)-1)\n",
    "\n",
    "if __name__ == '__main__':\n",
    "    arr=[1,1,1,1,1,0]\n",
    "    result=getCount(arr)\n",
    "    print(result)\n"
   ]
  },
  {
   "cell_type": "markdown",
   "metadata": {},
   "source": [
    "# Given a sorted array and a number x, find the pair in array whose sum is closest to x"
   ]
  },
  {
   "cell_type": "code",
   "execution_count": 57,
   "metadata": {},
   "outputs": [
    {
     "name": "stdout",
     "output_type": "stream",
     "text": [
      "[22, 30]\n"
     ]
    }
   ],
   "source": [
    "def findPair(arr,x):\n",
    "    l=0\n",
    "    r=len(arr)-1\n",
    "    total=float('infinity')\n",
    "    result=[None,None]\n",
    "    while l<r:\n",
    "        #arr=[10, 22, 28, 29, 30, 40]\n",
    "        value=(arr[l]+arr[r])\n",
    "        #print(arr[l],arr[r],value)\n",
    "        if abs(value-x)<total:\n",
    "            total=abs(value-x)\n",
    "            result[0]=arr[l]\n",
    "            result[1]=arr[r]\n",
    "            #l+=1\n",
    "            #r-=1\n",
    "        if value<x:\n",
    "            l+=1\n",
    "        else:\n",
    "            r-=1\n",
    "    return result\n",
    "\n",
    "\n",
    "if __name__ == '__main__':\n",
    "    arr=[10, 22, 28, 29, 30, 40]\n",
    "    x=54\n",
    "    result=findPair(arr,x)\n",
    "    print(result)\n"
   ]
  },
  {
   "cell_type": "markdown",
   "metadata": {},
   "source": [
    "# Find the closest pair from two sorted arrays"
   ]
  },
  {
   "cell_type": "code",
   "execution_count": 4,
   "metadata": {},
   "outputs": [
    {
     "name": "stdout",
     "output_type": "stream",
     "text": [
      "[1, 30]\n"
     ]
    }
   ],
   "source": [
    "\n",
    "def getClosest(arr1,arr2,n1,n2,x):\n",
    "    i=0\n",
    "    j=n2-1\n",
    "    diff=float('infinity')\n",
    "    result=[None,None]\n",
    "    while i<n1 and j>=0:\n",
    "        total=arr1[i]+arr2[j]\n",
    "        if abs(x-total)<diff:\n",
    "            diff=abs(x-total)\n",
    "            result[0]=arr1[i]\n",
    "            result[1]=arr2[j]\n",
    "        elif total<x:\n",
    "            i+=1\n",
    "        elif total>x:\n",
    "            j-=1\n",
    "    print(result)\n",
    "'''\n",
    "def getClosest(arr1,arr2,n1,n2,x):\n",
    "    i=0\n",
    "    j=0\n",
    "    diff=float('infinity')\n",
    "    result=[None,None]\n",
    "    while i<n1 or j<n2:\n",
    "        if i<n1 and j<n2:\n",
    "            total=arr1[i]+arr2[j]\n",
    "            if abs(x-total)<diff:\n",
    "                print(arr1[i],arr2[j])\n",
    "                diff=abs(x-total)\n",
    "                result[0]=arr1[i]\n",
    "                result[1]=arr2[j]\n",
    "\n",
    "            if arr1[i]<arr2[j]:\n",
    "                j+=1\n",
    "            else:\n",
    "                i+=1\n",
    "        elif i<n1:\n",
    "            total=arr1[i]+arr2[arr2.index(result[1])]\n",
    "            if abs(x-total)<diff:\n",
    "                diff=abs(x-total)\n",
    "                result[0]=arr1[i]\n",
    "                #result[1]=arr2[j]\n",
    "            i+=1\n",
    "        else:\n",
    "            total=arr1[arr2.index(result[0])]+arr2[j]\n",
    "            if abs(x-total)<diff:\n",
    "                diff=abs(x-total)\n",
    "                #result[0]=arr1[i]\n",
    "                result[1]=arr2[j]\n",
    "            j+=1\n",
    "    print(result)\n",
    "'''\n",
    "\n",
    "if __name__ == '__main__':\n",
    "    arr1=[1, 4, 5, 7]\n",
    "    arr2=[10, 20, 30, 40]\n",
    "    x=32\n",
    "    result=getClosest(arr1,arr2,len(arr1),len(arr2),x)\n"
   ]
  },
  {
   "cell_type": "markdown",
   "metadata": {},
   "source": [
    "# Smallest Difference pair of values between two unsorted Arrays"
   ]
  },
  {
   "cell_type": "code",
   "execution_count": 6,
   "metadata": {},
   "outputs": [
    {
     "name": "stdout",
     "output_type": "stream",
     "text": [
      "[11, 12]\n"
     ]
    }
   ],
   "source": [
    "def getSmallest(arr1,arr2):\n",
    "    i=j=0\n",
    "    n1=len(arr1)\n",
    "    n2=len(arr2)\n",
    "    result=[None,None]\n",
    "    diff=float('infinity')\n",
    "    while i<n1 and j<n2:\n",
    "        if abs(arr1[i]-arr2[j])<diff:\n",
    "            diff=abs(arr1[i]-arr2[j])\n",
    "            result[0]=arr1[i]\n",
    "            result[1]=arr2[j]\n",
    "        if arr1[i]<arr2[j]:\n",
    "            i+=1\n",
    "        else:\n",
    "            j+=1\n",
    "    return result\n",
    "if __name__ == '__main__':\n",
    "    arr1=[1, 2, 11, 15]\n",
    "    arr2=[4, 12, 19, 23, 127, 235]\n",
    "    result=getSmallest(arr1,arr2)\n",
    "    print(result)\n"
   ]
  },
  {
   "cell_type": "markdown",
   "metadata": {},
   "source": [
    "This algorithm takes O(m log m + n log n) time to sort and O(m + n) time to find the minimum difference. Therefore, the overall runtime is O(m log m + n log n)."
   ]
  },
  {
   "cell_type": "markdown",
   "metadata": {},
   "source": [
    "# K’th Smallest/Largest Element in Unsorted Array"
   ]
  },
  {
   "cell_type": "markdown",
   "metadata": {},
   "source": [
    "Approach1-> Sort the array and return the element O(nlogn)"
   ]
  },
  {
   "cell_type": "markdown",
   "metadata": {},
   "source": [
    "Approach2-> Use Min Heap if smallest element / Max Heap is largest element O(n+klogn)"
   ]
  },
  {
   "cell_type": "code",
   "execution_count": 8,
   "metadata": {},
   "outputs": [
    {
     "name": "stdout",
     "output_type": "stream",
     "text": [
      "7\n"
     ]
    }
   ],
   "source": [
    "from heapq import heapify,heappop\n",
    "def getKSmallest(arr,k,n):\n",
    "    if k>n:\n",
    "        return -1\n",
    "    result=None\n",
    "    heapify(arr)\n",
    "    #print(arr)\n",
    "    for i in range(k):\n",
    "        result=heappop(arr)\n",
    "    return result\n",
    "\n",
    "if __name__ == '__main__':\n",
    "    arr=[7, 10, 4, 3, 20, 15]\n",
    "    k=3\n",
    "    result=getKSmallest(arr,k,len(arr))\n",
    "    print(result)\n"
   ]
  },
  {
   "cell_type": "markdown",
   "metadata": {},
   "source": [
    "Approach 3-> <br><br>\n",
    "We can also use Max Heap for finding the k’th smallest element. Following is algorithm.<br><br>\n",
    "1) Build a Max-Heap MH of the first k elements (arr[0] to arr[k-1]) of the given array. O(k)\n",
    "<br><br>\n",
    "2) For each element, after the k’th element (arr[k] to arr[n-1]), compare it with root of MH.\n",
    "……a) If the element is less than the root then make it root and call heapify for MH<br>\n",
    "……b) Else ignore it.<br><br>\n",
    "// The step 2 is O((n-k)*logk)\n",
    "<br><br>\n",
    "3) Finally, root of the MH is the kth smallest element.\n",
    "<br>\n",
    "Time complexity of this solution is O(k + (n-k)*Logk)"
   ]
  },
  {
   "cell_type": "code",
   "execution_count": 10,
   "metadata": {},
   "outputs": [
    {
     "name": "stdout",
     "output_type": "stream",
     "text": [
      "7\n"
     ]
    }
   ],
   "source": [
    "from heapq import _heapify_max\n",
    "def getKSmallest(arr,k,n):\n",
    "    if k>n:\n",
    "        return -1\n",
    "    result=None\n",
    "    temp=arr[:k]\n",
    "    _heapify_max(temp)\n",
    "    #print(temp)\n",
    "\n",
    "    for i in range(k,n):\n",
    "        if arr[i]<temp[0]:\n",
    "            temp[0]=arr[i]\n",
    "            _heapify_max(temp)\n",
    "    return temp[0]\n",
    "\n",
    "if __name__ == '__main__':\n",
    "    arr=[7, 10, 4, 3, 20, 15]\n",
    "    k=3\n",
    "    result=getKSmallest(arr,k,len(arr))\n",
    "    print(result)\n"
   ]
  },
  {
   "cell_type": "markdown",
   "metadata": {},
   "source": [
    "Aproach 4-><br>\n",
    "(QuickSelect)<br>\n",
    "This is an optimization over method 1 if QuickSort is used as a sorting algorithm in first step. In QuickSort, we pick a pivot element, then move the pivot element to its correct position and partition the array around it. The idea is, not to do complete quicksort, but stop at the point where pivot itself is k’th smallest element. Also, not to recur for both left and right sides of pivot, but recur for one of them according to the position of pivot. The worst case time complexity of this method is O(n2), but it works in O(n) on average.\n",
    "filter_none"
   ]
  },
  {
   "cell_type": "markdown",
   "metadata": {},
   "source": [
    "Approach 5-> Random Quick Select [Expected Linear Time]"
   ]
  },
  {
   "cell_type": "markdown",
   "metadata": {},
   "source": [
    "# Approach 6-> Worst Case Linear Time [To Do]"
   ]
  },
  {
   "cell_type": "markdown",
   "metadata": {},
   "source": [
    "# Find position of an element in a sorted array of infinite numbers"
   ]
  },
  {
   "cell_type": "markdown",
   "metadata": {},
   "source": [
    "Since the array is infinite. So we first need to find the bounds [Exponential Search]"
   ]
  },
  {
   "cell_type": "code",
   "execution_count": 12,
   "metadata": {},
   "outputs": [
    {
     "name": "stdout",
     "output_type": "stream",
     "text": [
      "10\n"
     ]
    }
   ],
   "source": [
    "def search(arr,key):\n",
    "    if arr[0]==key:\n",
    "        return 0\n",
    "    i=1\n",
    "    while arr[min(i,len(arr)-1)]<key:\n",
    "        i*=2\n",
    "    low=i//2\n",
    "    high=min(i,len(arr)-1)\n",
    "    #print(low,high)\n",
    "    while low<=high:\n",
    "        mid=(low+high)//2\n",
    "        if arr[mid]==key:\n",
    "            return mid\n",
    "        elif arr[mid]<key:\n",
    "            low=mid+1\n",
    "        else:\n",
    "            high=mid-1\n",
    "    return -1\n",
    "\n",
    "if __name__ == '__main__':\n",
    "    arr=[3, 5, 7, 9, 10, 90, 100, 130,140, 160, 170]\n",
    "    key=170\n",
    "    result=search(arr,key)\n",
    "    print(result)\n"
   ]
  },
  {
   "cell_type": "markdown",
   "metadata": {},
   "source": [
    "Time Complexity - O(logn)"
   ]
  },
  {
   "cell_type": "markdown",
   "metadata": {},
   "source": [
    "# Given a sorted and rotated array, find if there is a pair with a given sum"
   ]
  },
  {
   "cell_type": "code",
   "execution_count": 16,
   "metadata": {},
   "outputs": [
    {
     "name": "stdout",
     "output_type": "stream",
     "text": [
      "[9, 26]\n"
     ]
    }
   ],
   "source": [
    "def findSmallest(arr,low,high):\n",
    "    if low>high:\n",
    "        return -1\n",
    "    mid=(low+high)//2\n",
    "    if mid<high and arr[mid]>arr[mid+1]:\n",
    "        return mid+1\n",
    "    if mid>0 and arr[mid]<arr[mid-1]:\n",
    "        return mid\n",
    "    if arr[mid]<arr[high]:\n",
    "        return findSmallest(arr,low,mid-1)\n",
    "    return findSmallest(arr,mid+1,high)\n",
    "\n",
    "def findPair(arr,x,n):\n",
    "    if arr[0]<arr[n-1]:\n",
    "        low=0\n",
    "        high=n-1\n",
    "    else:\n",
    "        low=findSmallest(arr,0,n-1)\n",
    "        high=low-1\n",
    "    #print(low,high)\n",
    "    result=[None,None]\n",
    "    while low!=high:\n",
    "        #print(arr[low],arr[high])\n",
    "        if arr[low]+arr[high]==x:\n",
    "            result[0]=arr[low]\n",
    "            result[1]=arr[high]\n",
    "            low=(low+1)%n\n",
    "            high=(n+high-1)%n\n",
    "        elif arr[low]+arr[high]<x:\n",
    "            low=(low+1)%n\n",
    "        else:\n",
    "            high=(n+high-1)%n\n",
    "    return result\n",
    "\n",
    "if __name__ == '__main__':\n",
    "    arr=[11, 15, 26, 38, 9, 10]\n",
    "    x=35\n",
    "    result=findPair(arr,x,len(arr))\n",
    "    print(result)\n"
   ]
  },
  {
   "cell_type": "code",
   "execution_count": null,
   "metadata": {},
   "outputs": [],
   "source": []
  }
 ],
 "metadata": {
  "kernelspec": {
   "display_name": "Python 3",
   "language": "python",
   "name": "python3"
  },
  "language_info": {
   "codemirror_mode": {
    "name": "ipython",
    "version": 3
   },
   "file_extension": ".py",
   "mimetype": "text/x-python",
   "name": "python",
   "nbconvert_exporter": "python",
   "pygments_lexer": "ipython3",
   "version": "3.7.6"
  }
 },
 "nbformat": 4,
 "nbformat_minor": 4
}
